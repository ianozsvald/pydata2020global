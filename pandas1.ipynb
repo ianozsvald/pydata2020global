{
 "cells": [
  {
   "cell_type": "markdown",
   "metadata": {},
   "source": [
    "# RAM saving\n",
    "\n",
    "* load pickle\n",
    "* vc vs groupby with memit and %time\n",
    "* "
   ]
  },
  {
   "cell_type": "code",
   "execution_count": 1,
   "metadata": {},
   "outputs": [],
   "source": [
    "from config import *\n",
    "import pandas as pd\n",
    "import numpy as np\n"
   ]
  },
  {
   "cell_type": "code",
   "execution_count": 2,
   "metadata": {},
   "outputs": [],
   "source": [
    "import ipython_memory_usage "
   ]
  },
  {
   "cell_type": "code",
   "execution_count": 3,
   "metadata": {},
   "outputs": [
    {
     "name": "stdout",
     "output_type": "stream",
     "text": [
      "Variable                         Type        Data/Info\n",
      "------------------------------------------------------\n",
      "COLUMNS                          list        n=16\n",
      "DATA_CSV                         str         /home/ian/data/land_registry/pp-complete_10.csv\n",
      "DATA_PARQUET_100_GZIP            str         /home/ian/data/land_regis<...>complete_100_gzip.parquet\n",
      "DATA_PARQUET_100_NOCOMPRESSION   str         /home/ian/data/land_regis<...>100_nocompression.parquet\n",
      "DATA_PARQUET_100_SNAPPY          str         /home/ian/data/land_regis<...>mplete_100_snappy.parquet\n",
      "DATA_PARQUET_10_SNAPPY           str         /home/ian/data/land_regis<...>omplete_10_snappy.parquet\n",
      "PICKLE                           str         /home/ian/data/land_regis<...>pp-complete-202009.pickle\n",
      "RAW_DATA                         str         /home/ian/data/land_regis<...>ry/pp-complete-202009.csv\n",
      "ROOT                             str         /home/ian/data/land_registry\n",
      "SQLITEDB                         str         /home/ian/data/land_regis<...>pp-complete-202009.sqlite\n",
      "VAEX                             str         /home/ian/data/land_regis<...>-complete-202009.csv.hdf5\n",
      "black_reformat                   function    <function black_reformat at 0x7f7d60259430>\n",
      "ipython_memory_usage             module      <module 'ipython_memory_u<...>emory_usage/__init__.py'>\n",
      "json                             module      <module 'json' from '/hom<...>hon3.8/json/__init__.py'>\n",
      "np                               module      <module 'numpy' from '/ho<...>kages/numpy/__init__.py'>\n",
      "os                               module      <module 'os' from '/home/<...>bal/lib/python3.8/os.py'>\n",
      "pd                               module      <module 'pandas' from '/h<...>ages/pandas/__init__.py'>\n"
     ]
    }
   ],
   "source": [
    "whos"
   ]
  },
  {
   "cell_type": "code",
   "execution_count": 4,
   "metadata": {},
   "outputs": [],
   "source": [
    "#df = pd.read_csv(DATA_CSV) # 132 sec\n",
    "df = pd.read_pickle(PICKLE) # 30 sec"
   ]
  },
  {
   "cell_type": "code",
   "execution_count": 4,
   "metadata": {},
   "outputs": [
    {
     "name": "stdout",
     "output_type": "stream",
     "text": [
      "<class 'pandas.core.frame.DataFrame'>\n",
      "RangeIndex: 25467513 entries, 0 to 25467512\n",
      "Data columns (total 16 columns):\n",
      " #   Column    Dtype         \n",
      "---  ------    -----         \n",
      " 0   tin       object        \n",
      " 1   price     int64         \n",
      " 2   date      datetime64[ns]\n",
      " 3   postcode  object        \n",
      " 4   pt        object        \n",
      " 5   new       object        \n",
      " 6   duration  object        \n",
      " 7   paon      object        \n",
      " 8   saon      object        \n",
      " 9   street    object        \n",
      " 10  locality  object        \n",
      " 11  town      object        \n",
      " 12  district  object        \n",
      " 13  county    object        \n",
      " 14  ppd_cat   object        \n",
      " 15  status    object        \n",
      "dtypes: datetime64[ns](1), int64(1), object(14)\n",
      "memory usage: 3.0+ GB\n"
     ]
    }
   ],
   "source": [
    "df.info()"
   ]
  },
  {
   "cell_type": "code",
   "execution_count": 5,
   "metadata": {},
   "outputs": [
    {
     "data": {
      "text/html": [
       "<div>\n",
       "<style scoped>\n",
       "    .dataframe tbody tr th:only-of-type {\n",
       "        vertical-align: middle;\n",
       "    }\n",
       "\n",
       "    .dataframe tbody tr th {\n",
       "        vertical-align: top;\n",
       "    }\n",
       "\n",
       "    .dataframe thead th {\n",
       "        text-align: right;\n",
       "    }\n",
       "</style>\n",
       "<table border=\"1\" class=\"dataframe\">\n",
       "  <thead>\n",
       "    <tr style=\"text-align: right;\">\n",
       "      <th></th>\n",
       "      <th>tin</th>\n",
       "      <th>price</th>\n",
       "      <th>date</th>\n",
       "      <th>postcode</th>\n",
       "      <th>pt</th>\n",
       "      <th>new</th>\n",
       "      <th>duration</th>\n",
       "      <th>paon</th>\n",
       "      <th>saon</th>\n",
       "      <th>street</th>\n",
       "      <th>locality</th>\n",
       "      <th>town</th>\n",
       "      <th>district</th>\n",
       "      <th>county</th>\n",
       "      <th>ppd_cat</th>\n",
       "      <th>status</th>\n",
       "    </tr>\n",
       "  </thead>\n",
       "  <tbody>\n",
       "    <tr>\n",
       "      <th>0</th>\n",
       "      <td>{A42E2F04-2538-4A25-94C5-49E29C6C8FA8}</td>\n",
       "      <td>18500</td>\n",
       "      <td>1995-01-31</td>\n",
       "      <td>TQ1 1RY</td>\n",
       "      <td>F</td>\n",
       "      <td>N</td>\n",
       "      <td>L</td>\n",
       "      <td>VILLA PARADISO</td>\n",
       "      <td>FLAT 10</td>\n",
       "      <td>HIGHER WARBERRY ROAD</td>\n",
       "      <td>TORQUAY</td>\n",
       "      <td>TORQUAY</td>\n",
       "      <td>TORBAY</td>\n",
       "      <td>TORBAY</td>\n",
       "      <td>A</td>\n",
       "      <td>A</td>\n",
       "    </tr>\n",
       "    <tr>\n",
       "      <th>1</th>\n",
       "      <td>{1BA349E3-2579-40D6-999E-49E2A25D2284}</td>\n",
       "      <td>73450</td>\n",
       "      <td>1995-10-09</td>\n",
       "      <td>L26 7XJ</td>\n",
       "      <td>D</td>\n",
       "      <td>Y</td>\n",
       "      <td>F</td>\n",
       "      <td>6</td>\n",
       "      <td>NaN</td>\n",
       "      <td>CATKIN ROAD</td>\n",
       "      <td>LIVERPOOL</td>\n",
       "      <td>LIVERPOOL</td>\n",
       "      <td>KNOWSLEY</td>\n",
       "      <td>MERSEYSIDE</td>\n",
       "      <td>A</td>\n",
       "      <td>A</td>\n",
       "    </tr>\n",
       "    <tr>\n",
       "      <th>2</th>\n",
       "      <td>{E5B50DCB-BC7A-4E54-B167-49E2A6B4148B}</td>\n",
       "      <td>59000</td>\n",
       "      <td>1995-03-31</td>\n",
       "      <td>BH12 2AE</td>\n",
       "      <td>D</td>\n",
       "      <td>N</td>\n",
       "      <td>F</td>\n",
       "      <td>28</td>\n",
       "      <td>NaN</td>\n",
       "      <td>ALDER ROAD</td>\n",
       "      <td>POOLE</td>\n",
       "      <td>POOLE</td>\n",
       "      <td>POOLE</td>\n",
       "      <td>POOLE</td>\n",
       "      <td>A</td>\n",
       "      <td>A</td>\n",
       "    </tr>\n",
       "    <tr>\n",
       "      <th>3</th>\n",
       "      <td>{81E50116-D675-4B7F-9F8D-49E2B5D43271}</td>\n",
       "      <td>31000</td>\n",
       "      <td>1995-12-04</td>\n",
       "      <td>IP13 0DR</td>\n",
       "      <td>D</td>\n",
       "      <td>Y</td>\n",
       "      <td>F</td>\n",
       "      <td>NONSUCH COTTAGE</td>\n",
       "      <td>NaN</td>\n",
       "      <td>THE STREET</td>\n",
       "      <td>HACHESTON</td>\n",
       "      <td>WOODBRIDGE</td>\n",
       "      <td>SUFFOLK COASTAL</td>\n",
       "      <td>SUFFOLK</td>\n",
       "      <td>A</td>\n",
       "      <td>A</td>\n",
       "    </tr>\n",
       "    <tr>\n",
       "      <th>4</th>\n",
       "      <td>{B97455B9-75CB-40BB-A615-42C53683E143}</td>\n",
       "      <td>95000</td>\n",
       "      <td>1995-09-22</td>\n",
       "      <td>WS14 0BE</td>\n",
       "      <td>D</td>\n",
       "      <td>N</td>\n",
       "      <td>F</td>\n",
       "      <td>FOX COVER COTTAGE</td>\n",
       "      <td>NaN</td>\n",
       "      <td>HALL LANE</td>\n",
       "      <td>LICHFIELD</td>\n",
       "      <td>LICHFIELD</td>\n",
       "      <td>LICHFIELD</td>\n",
       "      <td>STAFFORDSHIRE</td>\n",
       "      <td>A</td>\n",
       "      <td>A</td>\n",
       "    </tr>\n",
       "  </tbody>\n",
       "</table>\n",
       "</div>"
      ],
      "text/plain": [
       "                                      tin  price       date  postcode pt new  \\\n",
       "0  {A42E2F04-2538-4A25-94C5-49E29C6C8FA8}  18500 1995-01-31   TQ1 1RY  F   N   \n",
       "1  {1BA349E3-2579-40D6-999E-49E2A25D2284}  73450 1995-10-09   L26 7XJ  D   Y   \n",
       "2  {E5B50DCB-BC7A-4E54-B167-49E2A6B4148B}  59000 1995-03-31  BH12 2AE  D   N   \n",
       "3  {81E50116-D675-4B7F-9F8D-49E2B5D43271}  31000 1995-12-04  IP13 0DR  D   Y   \n",
       "4  {B97455B9-75CB-40BB-A615-42C53683E143}  95000 1995-09-22  WS14 0BE  D   N   \n",
       "\n",
       "  duration               paon     saon                street   locality  \\\n",
       "0        L     VILLA PARADISO  FLAT 10  HIGHER WARBERRY ROAD    TORQUAY   \n",
       "1        F                  6      NaN           CATKIN ROAD  LIVERPOOL   \n",
       "2        F                 28      NaN            ALDER ROAD      POOLE   \n",
       "3        F    NONSUCH COTTAGE      NaN            THE STREET  HACHESTON   \n",
       "4        F  FOX COVER COTTAGE      NaN             HALL LANE  LICHFIELD   \n",
       "\n",
       "         town         district         county ppd_cat status  \n",
       "0     TORQUAY           TORBAY         TORBAY       A      A  \n",
       "1   LIVERPOOL         KNOWSLEY     MERSEYSIDE       A      A  \n",
       "2       POOLE            POOLE          POOLE       A      A  \n",
       "3  WOODBRIDGE  SUFFOLK COASTAL        SUFFOLK       A      A  \n",
       "4   LICHFIELD        LICHFIELD  STAFFORDSHIRE       A      A  "
      ]
     },
     "execution_count": 5,
     "metadata": {},
     "output_type": "execute_result"
    }
   ],
   "source": [
    "df.head()"
   ]
  },
  {
   "cell_type": "code",
   "execution_count": 6,
   "metadata": {},
   "outputs": [
    {
     "data": {
      "text/plain": [
       "count    2.546751e+07\n",
       "mean     1.991012e+05\n",
       "std      7.602183e+05\n",
       "min      1.000000e+00\n",
       "25%      7.999500e+04\n",
       "50%      1.400000e+05\n",
       "75%      2.300000e+05\n",
       "max      5.943000e+08\n",
       "Name: price, dtype: float64"
      ]
     },
     "execution_count": 6,
     "metadata": {},
     "output_type": "execute_result"
    }
   ],
   "source": [
    "df.price.describe()"
   ]
  },
  {
   "cell_type": "markdown",
   "metadata": {},
   "source": [
    "# value counts & groupby same speed but different resource usage"
   ]
  },
  {
   "cell_type": "code",
   "execution_count": 8,
   "metadata": {},
   "outputs": [
    {
     "name": "stdout",
     "output_type": "stream",
     "text": [
      "CPU times: user 1.97 s, sys: 15.1 ms, total: 1.99 s\n",
      "Wall time: 1.98 s\n"
     ]
    },
    {
     "data": {
      "text/plain": [
       "T    7709663\n",
       "S    6997352\n",
       "D    5857769\n",
       "F    4603196\n",
       "O     299533\n",
       "Name: pt, dtype: int64"
      ]
     },
     "execution_count": 8,
     "metadata": {},
     "output_type": "execute_result"
    }
   ],
   "source": [
    "%time df.pt.value_counts(dropna=False)"
   ]
  },
  {
   "cell_type": "code",
   "execution_count": 7,
   "metadata": {},
   "outputs": [
    {
     "name": "stdout",
     "output_type": "stream",
     "text": [
      "CPU times: user 1.95 s, sys: 8.87 ms, total: 1.96 s\n",
      "Wall time: 1.94 s\n"
     ]
    },
    {
     "data": {
      "text/plain": [
       "T    7709663\n",
       "S    6997352\n",
       "D    5857769\n",
       "F    4603196\n",
       "O     299533\n",
       "Name: pt, dtype: int64"
      ]
     },
     "execution_count": 7,
     "metadata": {},
     "output_type": "execute_result"
    }
   ],
   "source": [
    "%time df.pt.value_counts()"
   ]
  },
  {
   "cell_type": "code",
   "execution_count": 9,
   "metadata": {},
   "outputs": [
    {
     "name": "stdout",
     "output_type": "stream",
     "text": [
      "CPU times: user 1.71 s, sys: 285 ms, total: 1.99 s\n",
      "Wall time: 1.98 s\n"
     ]
    },
    {
     "data": {
      "text/plain": [
       "pt\n",
       "T    7709663\n",
       "S    6997352\n",
       "D    5857769\n",
       "F    4603196\n",
       "O     299533\n",
       "dtype: int64"
      ]
     },
     "execution_count": 9,
     "metadata": {},
     "output_type": "execute_result"
    }
   ],
   "source": [
    "%time df.groupby('pt').size().sort_values(ascending=False)"
   ]
  },
  {
   "cell_type": "code",
   "execution_count": 10,
   "metadata": {},
   "outputs": [
    {
     "name": "stdout",
     "output_type": "stream",
     "text": [
      "peak memory: 9777.30 MiB, increment: 23.12 MiB\n"
     ]
    }
   ],
   "source": [
    "%load_ext memory_profiler\n",
    "%memit df.pt.value_counts()"
   ]
  },
  {
   "cell_type": "code",
   "execution_count": 11,
   "metadata": {},
   "outputs": [
    {
     "name": "stdout",
     "output_type": "stream",
     "text": [
      "peak memory: 10141.95 MiB, increment: 412.92 MiB\n"
     ]
    }
   ],
   "source": [
    "%memit df.groupby('pt').size().sort_values(ascending=False)"
   ]
  },
  {
   "cell_type": "code",
   "execution_count": 12,
   "metadata": {},
   "outputs": [
    {
     "name": "stdout",
     "output_type": "stream",
     "text": [
      "CPU times: user 1.96 s, sys: 390 ms, total: 2.35 s\n",
      "Wall time: 2.35 s\n"
     ]
    },
    {
     "data": {
      "text/plain": [
       "pt\n",
       "T    7709663\n",
       "S    6997352\n",
       "D    5857769\n",
       "F    4603196\n",
       "O     299533\n",
       "dtype: int64"
      ]
     },
     "execution_count": 12,
     "metadata": {},
     "output_type": "execute_result"
    }
   ],
   "source": [
    "%time df[['pt']].groupby('pt').size().sort_values(ascending=False)"
   ]
  },
  {
   "cell_type": "code",
   "execution_count": 13,
   "metadata": {},
   "outputs": [
    {
     "name": "stdout",
     "output_type": "stream",
     "text": [
      "peak memory: 10320.46 MiB, increment: 567.00 MiB\n"
     ]
    }
   ],
   "source": [
    "%memit df[['pt']].groupby('pt').size().sort_values(ascending=False)"
   ]
  },
  {
   "cell_type": "code",
   "execution_count": 14,
   "metadata": {},
   "outputs": [
    {
     "name": "stdout",
     "output_type": "stream",
     "text": [
      "CPU times: user 1.8 s, sys: 305 ms, total: 2.1 s\n",
      "Wall time: 2.1 s\n"
     ]
    },
    {
     "data": {
      "text/plain": [
       "pt\n",
       "D    2.687413e+05\n",
       "F    1.896446e+05\n",
       "O    1.213034e+06\n",
       "S    1.608487e+05\n",
       "T    1.471605e+05\n",
       "Name: price, dtype: float64"
      ]
     },
     "execution_count": 14,
     "metadata": {},
     "output_type": "execute_result"
    }
   ],
   "source": [
    "%time df.groupby('pt').price.mean()"
   ]
  },
  {
   "cell_type": "code",
   "execution_count": 15,
   "metadata": {},
   "outputs": [
    {
     "name": "stdout",
     "output_type": "stream",
     "text": [
      "peak memory: 10142.04 MiB, increment: 388.52 MiB\n"
     ]
    }
   ],
   "source": [
    "%memit df.groupby('pt').price.mean()"
   ]
  },
  {
   "cell_type": "markdown",
   "metadata": {},
   "source": [
    "## What about county?"
   ]
  },
  {
   "cell_type": "code",
   "execution_count": 16,
   "metadata": {},
   "outputs": [
    {
     "name": "stdout",
     "output_type": "stream",
     "text": [
      "CPU times: user 4.34 s, sys: 718 ms, total: 5.06 s\n",
      "Wall time: 5.08 s\n"
     ]
    },
    {
     "data": {
      "text/plain": [
       "county                        pt\n",
       "AVON                          D     1.015364e+05\n",
       "                              F     4.877750e+04\n",
       "                              S     6.104489e+04\n",
       "                              T     5.064950e+04\n",
       "BATH AND NORTH EAST SOMERSET  D     3.566669e+05\n",
       "                                        ...     \n",
       "YORK                          D     2.393627e+05\n",
       "                              F     1.473420e+05\n",
       "                              O     1.012943e+06\n",
       "                              S     1.555586e+05\n",
       "                              T     1.542359e+05\n",
       "Name: price, Length: 625, dtype: float64"
      ]
     },
     "execution_count": 16,
     "metadata": {},
     "output_type": "execute_result"
    }
   ],
   "source": [
    "%time df.groupby(['county', 'pt'])['price'].mean()"
   ]
  },
  {
   "cell_type": "code",
   "execution_count": 17,
   "metadata": {},
   "outputs": [
    {
     "name": "stdout",
     "output_type": "stream",
     "text": [
      "peak memory: 10727.59 MiB, increment: 971.34 MiB\n"
     ]
    }
   ],
   "source": [
    "%memit df.groupby(['county', 'pt'])['price'].mean()"
   ]
  },
  {
   "cell_type": "markdown",
   "metadata": {},
   "source": [
    "# What if we change dtypes?"
   ]
  },
  {
   "cell_type": "code",
   "execution_count": 5,
   "metadata": {},
   "outputs": [
    {
     "data": {
      "text/html": [
       "<div>\n",
       "<style scoped>\n",
       "    .dataframe tbody tr th:only-of-type {\n",
       "        vertical-align: middle;\n",
       "    }\n",
       "\n",
       "    .dataframe tbody tr th {\n",
       "        vertical-align: top;\n",
       "    }\n",
       "\n",
       "    .dataframe thead th {\n",
       "        text-align: right;\n",
       "    }\n",
       "</style>\n",
       "<table border=\"1\" class=\"dataframe\">\n",
       "  <thead>\n",
       "    <tr style=\"text-align: right;\">\n",
       "      <th></th>\n",
       "      <th>county</th>\n",
       "      <th>pt</th>\n",
       "      <th>date</th>\n",
       "      <th>price</th>\n",
       "    </tr>\n",
       "  </thead>\n",
       "  <tbody>\n",
       "    <tr>\n",
       "      <th>0</th>\n",
       "      <td>TORBAY</td>\n",
       "      <td>F</td>\n",
       "      <td>1995-01-31</td>\n",
       "      <td>18500</td>\n",
       "    </tr>\n",
       "    <tr>\n",
       "      <th>1</th>\n",
       "      <td>MERSEYSIDE</td>\n",
       "      <td>D</td>\n",
       "      <td>1995-10-09</td>\n",
       "      <td>73450</td>\n",
       "    </tr>\n",
       "    <tr>\n",
       "      <th>2</th>\n",
       "      <td>POOLE</td>\n",
       "      <td>D</td>\n",
       "      <td>1995-03-31</td>\n",
       "      <td>59000</td>\n",
       "    </tr>\n",
       "    <tr>\n",
       "      <th>3</th>\n",
       "      <td>SUFFOLK</td>\n",
       "      <td>D</td>\n",
       "      <td>1995-12-04</td>\n",
       "      <td>31000</td>\n",
       "    </tr>\n",
       "    <tr>\n",
       "      <th>4</th>\n",
       "      <td>STAFFORDSHIRE</td>\n",
       "      <td>D</td>\n",
       "      <td>1995-09-22</td>\n",
       "      <td>95000</td>\n",
       "    </tr>\n",
       "  </tbody>\n",
       "</table>\n",
       "</div>"
      ],
      "text/plain": [
       "          county pt       date  price\n",
       "0         TORBAY  F 1995-01-31  18500\n",
       "1     MERSEYSIDE  D 1995-10-09  73450\n",
       "2          POOLE  D 1995-03-31  59000\n",
       "3        SUFFOLK  D 1995-12-04  31000\n",
       "4  STAFFORDSHIRE  D 1995-09-22  95000"
      ]
     },
     "execution_count": 5,
     "metadata": {},
     "output_type": "execute_result"
    }
   ],
   "source": [
    "df_few_cols = df[['county', 'pt', 'date', 'price']]\n",
    "df_few_cols.head()"
   ]
  },
  {
   "cell_type": "code",
   "execution_count": 6,
   "metadata": {},
   "outputs": [
    {
     "name": "stdout",
     "output_type": "stream",
     "text": [
      "<class 'pandas.core.frame.DataFrame'>\n",
      "RangeIndex: 25467513 entries, 0 to 25467512\n",
      "Data columns (total 4 columns):\n",
      " #   Column  Dtype         \n",
      "---  ------  -----         \n",
      " 0   county  object        \n",
      " 1   pt      object        \n",
      " 2   date    datetime64[ns]\n",
      " 3   price   int64         \n",
      "dtypes: datetime64[ns](1), int64(1), object(2)\n",
      "memory usage: 777.2+ MB\n"
     ]
    }
   ],
   "source": [
    "df_few_cols.info()"
   ]
  },
  {
   "cell_type": "code",
   "execution_count": 145,
   "metadata": {},
   "outputs": [
    {
     "name": "stdout",
     "output_type": "stream",
     "text": [
      "<class 'pandas.core.frame.DataFrame'>\n",
      "RangeIndex: 25467513 entries, 0 to 25467512\n",
      "Data columns (total 4 columns):\n",
      " #   Column  Dtype         \n",
      "---  ------  -----         \n",
      " 0   county  object        \n",
      " 1   pt      object        \n",
      " 2   date    datetime64[ns]\n",
      " 3   price   int64         \n",
      "dtypes: datetime64[ns](1), int64(1), object(2)\n",
      "memory usage: 3.4 GB\n"
     ]
    }
   ],
   "source": [
    "df_few_cols.info(memory_usage=\"deep\")"
   ]
  },
  {
   "cell_type": "code",
   "execution_count": 18,
   "metadata": {},
   "outputs": [
    {
     "name": "stdout",
     "output_type": "stream",
     "text": [
      "New dataframe has shape (25467513, 4)\n"
     ]
    },
    {
     "data": {
      "text/plain": [
       "county    203740104\n",
       "pt        203740104\n",
       "date      203740104\n",
       "price     203740104\n",
       "dtype: int64"
      ]
     },
     "execution_count": 18,
     "metadata": {},
     "output_type": "execute_result"
    }
   ],
   "source": [
    "#df_few_cols = df[['county', 'pt', 'date', 'price']]\n",
    "print(f\"New dataframe has shape {df_few_cols.shape}\")\n",
    "# string columns are mis-represented with deep=True)\n",
    "df_few_cols.memory_usage(index=False)"
   ]
  },
  {
   "cell_type": "code",
   "execution_count": 19,
   "metadata": {},
   "outputs": [
    {
     "data": {
      "text/plain": [
       "True"
      ]
     },
     "execution_count": 19,
     "metadata": {},
     "output_type": "execute_result"
    }
   ],
   "source": [
    "25467513 * 8 == 203740104 # 8 bytes"
   ]
  },
  {
   "cell_type": "code",
   "execution_count": 20,
   "metadata": {},
   "outputs": [
    {
     "name": "stdout",
     "output_type": "stream",
     "text": [
      "<class 'pandas.core.frame.DataFrame'>\n",
      "RangeIndex: 25467513 entries, 0 to 25467512\n",
      "Data columns (total 4 columns):\n",
      " #   Column  Dtype         \n",
      "---  ------  -----         \n",
      " 0   county  object        \n",
      " 1   pt      object        \n",
      " 2   date    datetime64[ns]\n",
      " 3   price   int64         \n",
      "dtypes: datetime64[ns](1), int64(1), object(2)\n",
      "memory usage: 777.2+ MB\n"
     ]
    }
   ],
   "source": [
    "df_few_cols.info()"
   ]
  },
  {
   "cell_type": "code",
   "execution_count": 21,
   "metadata": {},
   "outputs": [
    {
     "data": {
      "text/plain": [
       "(dtype('O'), dtype('<M8[ns]'), dtype('int64'))"
      ]
     },
     "execution_count": 21,
     "metadata": {},
     "output_type": "execute_result"
    }
   ],
   "source": [
    "np.dtype('datetime64[ns]') == np.dtype('<M8[ns]') # 8byte datetime\n",
    "df_few_cols.pt.dtype, df_few_cols.date.dtype, df_few_cols.price.dtype, "
   ]
  },
  {
   "cell_type": "code",
   "execution_count": 7,
   "metadata": {},
   "outputs": [],
   "source": [
    "df_slimmer_cols = pd.DataFrame({'county_cat': df_few_cols.county.astype('category'),\n",
    "                                'pt_cat': df_few_cols.pt.astype('category'),\n",
    "                                'date_cat': df_few_cols.date.astype('category'),\n",
    "                                'price_i32': df_few_cols.price.astype('int32')})"
   ]
  },
  {
   "cell_type": "code",
   "execution_count": 8,
   "metadata": {},
   "outputs": [
    {
     "data": {
      "text/plain": [
       "county_cat     50948987\n",
       "pt_cat         25467963\n",
       "date_cat       51337602\n",
       "price_i32     101870052\n",
       "dtype: int64"
      ]
     },
     "execution_count": 8,
     "metadata": {},
     "output_type": "execute_result"
    }
   ],
   "source": [
    "# ask for deep=True to get the true string cost\n",
    "df_slimmer_cols.memory_usage(deep=True, index=False)"
   ]
  },
  {
   "cell_type": "code",
   "execution_count": 9,
   "metadata": {},
   "outputs": [
    {
     "name": "stdout",
     "output_type": "stream",
     "text": [
      "<class 'pandas.core.frame.DataFrame'>\n",
      "RangeIndex: 25467513 entries, 0 to 25467512\n",
      "Data columns (total 4 columns):\n",
      " #   Column      Dtype   \n",
      "---  ------      -----   \n",
      " 0   county_cat  category\n",
      " 1   pt_cat      category\n",
      " 2   date_cat    category\n",
      " 3   price_i32   int32   \n",
      "dtypes: category(3), int32(1)\n",
      "memory usage: 219.0 MB\n"
     ]
    }
   ],
   "source": [
    "df_slimmer_cols.info(memory_usage=True)"
   ]
  },
  {
   "cell_type": "code",
   "execution_count": 25,
   "metadata": {},
   "outputs": [
    {
     "data": {
      "text/plain": [
       "county_cat     50941170\n",
       "pt_cat         25467713\n",
       "date_cat       51337602\n",
       "price_i32     101870052\n",
       "dtype: int64"
      ]
     },
     "execution_count": 25,
     "metadata": {},
     "output_type": "execute_result"
    }
   ],
   "source": [
    "assert (df_slimmer_cols.date_cat == df_few_cols.date).all()\n",
    "assert (df_slimmer_cols.county_cat == df_few_cols.county).all()\n",
    "assert (df_slimmer_cols.pt_cat == df_few_cols.pt).all()\n",
    "assert (df_slimmer_cols.price_i32 == df_few_cols.price).all()\n",
    "\n",
    "df_slimmer_cols.memory_usage(index=False)"
   ]
  },
  {
   "cell_type": "code",
   "execution_count": 10,
   "metadata": {},
   "outputs": [
    {
     "name": "stdout",
     "output_type": "stream",
     "text": [
      "<class 'pandas.core.frame.DataFrame'>\n",
      "RangeIndex: 25467513 entries, 0 to 25467512\n",
      "Data columns (total 4 columns):\n",
      " #   Column      Dtype   \n",
      "---  ------      -----   \n",
      " 0   county_cat  category\n",
      " 1   pt_cat      category\n",
      " 2   date_cat    category\n",
      " 3   price_i32   int32   \n",
      "dtypes: category(3), int32(1)\n",
      "memory usage: 219.0 MB\n"
     ]
    }
   ],
   "source": [
    "df_slimmer_cols.info(memory_usage=\"deep\")"
   ]
  },
  {
   "cell_type": "code",
   "execution_count": 147,
   "metadata": {},
   "outputs": [
    {
     "name": "stdout",
     "output_type": "stream",
     "text": [
      "CPU times: user 1.97 s, sys: 1.67 ms, total: 1.97 s\n",
      "Wall time: 1.96 s\n"
     ]
    },
    {
     "data": {
      "text/plain": [
       "T    7709663\n",
       "S    6997352\n",
       "D    5857769\n",
       "F    4603196\n",
       "O     299533\n",
       "Name: pt, dtype: int64"
      ]
     },
     "execution_count": 147,
     "metadata": {},
     "output_type": "execute_result"
    }
   ],
   "source": [
    "%time df_few_cols.pt.value_counts()"
   ]
  },
  {
   "cell_type": "code",
   "execution_count": 148,
   "metadata": {},
   "outputs": [
    {
     "name": "stdout",
     "output_type": "stream",
     "text": [
      "CPU times: user 110 ms, sys: 35.7 ms, total: 146 ms\n",
      "Wall time: 146 ms\n"
     ]
    },
    {
     "data": {
      "text/plain": [
       "T    7709663\n",
       "S    6997352\n",
       "D    5857769\n",
       "F    4603196\n",
       "O     299533\n",
       "Name: pt_cat, dtype: int64"
      ]
     },
     "execution_count": 148,
     "metadata": {},
     "output_type": "execute_result"
    }
   ],
   "source": [
    "%time df_slimmer_cols.pt_cat.value_counts()"
   ]
  },
  {
   "cell_type": "code",
   "execution_count": 150,
   "metadata": {},
   "outputs": [
    {
     "name": "stdout",
     "output_type": "stream",
     "text": [
      "CPU times: user 1.58 s, sys: 287 ms, total: 1.87 s\n",
      "Wall time: 1.86 s\n"
     ]
    },
    {
     "data": {
      "text/plain": [
       "pt\n",
       "T    7709663\n",
       "S    6997352\n",
       "D    5857769\n",
       "F    4603196\n",
       "O     299533\n",
       "dtype: int64"
      ]
     },
     "execution_count": 150,
     "metadata": {},
     "output_type": "execute_result"
    }
   ],
   "source": [
    "%time df_few_cols.groupby('pt').size().sort_values(ascending=False)"
   ]
  },
  {
   "cell_type": "code",
   "execution_count": 27,
   "metadata": {},
   "outputs": [
    {
     "name": "stdout",
     "output_type": "stream",
     "text": [
      "CPU times: user 322 ms, sys: 140 ms, total: 462 ms\n",
      "Wall time: 465 ms\n"
     ]
    },
    {
     "data": {
      "text/plain": [
       "pt_cat\n",
       "T    7709663\n",
       "S    6997352\n",
       "D    5857769\n",
       "F    4603196\n",
       "O     299533\n",
       "dtype: int64"
      ]
     },
     "execution_count": 27,
     "metadata": {},
     "output_type": "execute_result"
    }
   ],
   "source": [
    "%time df_slimmer_cols.groupby('pt_cat').size().sort_values(ascending=False)"
   ]
  },
  {
   "cell_type": "markdown",
   "metadata": {},
   "source": [
    "This doesn't seem to change the memory used during these operations!"
   ]
  },
  {
   "cell_type": "code",
   "execution_count": 28,
   "metadata": {},
   "outputs": [
    {
     "name": "stdout",
     "output_type": "stream",
     "text": [
      "peak memory: 10944.66 MiB, increment: 194.31 MiB\n"
     ]
    }
   ],
   "source": [
    "%memit df_slimmer_cols.pt_cat.value_counts()"
   ]
  },
  {
   "cell_type": "code",
   "execution_count": 29,
   "metadata": {},
   "outputs": [
    {
     "name": "stdout",
     "output_type": "stream",
     "text": [
      "peak memory: 11138.96 MiB, increment: 388.61 MiB\n"
     ]
    }
   ],
   "source": [
    "%memit df_slimmer_cols.groupby('pt_cat').size().sort_values(ascending=False)"
   ]
  },
  {
   "cell_type": "code",
   "execution_count": 30,
   "metadata": {},
   "outputs": [
    {
     "name": "stdout",
     "output_type": "stream",
     "text": [
      "CPU times: user 300 ms, sys: 77 ms, total: 377 ms\n",
      "Wall time: 375 ms\n"
     ]
    },
    {
     "data": {
      "text/plain": [
       "pt_cat\n",
       "D    2.687413e+05\n",
       "F    1.896446e+05\n",
       "O    1.213034e+06\n",
       "S    1.608487e+05\n",
       "T    1.471605e+05\n",
       "Name: price_i32, dtype: float64"
      ]
     },
     "execution_count": 30,
     "metadata": {},
     "output_type": "execute_result"
    }
   ],
   "source": [
    "%time df_slimmer_cols.groupby('pt_cat').price_i32.mean()"
   ]
  },
  {
   "cell_type": "code",
   "execution_count": 31,
   "metadata": {},
   "outputs": [
    {
     "name": "stdout",
     "output_type": "stream",
     "text": [
      "peak memory: 11139.04 MiB, increment: 388.61 MiB\n"
     ]
    }
   ],
   "source": [
    "%memit df_slimmer_cols.groupby('pt_cat').price_i32.mean()"
   ]
  },
  {
   "cell_type": "code",
   "execution_count": null,
   "metadata": {},
   "outputs": [],
   "source": []
  },
  {
   "cell_type": "code",
   "execution_count": 32,
   "metadata": {},
   "outputs": [
    {
     "name": "stdout",
     "output_type": "stream",
     "text": [
      "880 ms ± 32.2 ms per loop (mean ± std. dev. of 7 runs, 1 loop each)\n"
     ]
    }
   ],
   "source": [
    "# again faster but no RAM saving\n",
    "%timeit df_slimmer_cols.groupby(['county_cat', 'pt_cat'])['price_i32'].mean()"
   ]
  },
  {
   "cell_type": "code",
   "execution_count": 33,
   "metadata": {},
   "outputs": [
    {
     "name": "stdout",
     "output_type": "stream",
     "text": [
      "peak memory: 11612.52 MiB, increment: 859.33 MiB\n"
     ]
    }
   ],
   "source": [
    "%memit df_slimmer_cols.groupby(['county_cat', 'pt_cat'])['price_i32'].mean()"
   ]
  },
  {
   "cell_type": "code",
   "execution_count": null,
   "metadata": {},
   "outputs": [],
   "source": []
  },
  {
   "cell_type": "code",
   "execution_count": 34,
   "metadata": {},
   "outputs": [
    {
     "data": {
      "text/plain": [
       "<AxesSubplot:>"
      ]
     },
     "execution_count": 34,
     "metadata": {},
     "output_type": "execute_result"
    },
    {
     "data": {
      "image/png": "[encoded data removed]",
      "text/plain": [
       "<Figure size 432x288 with 1 Axes>"
      ]
     },
     "metadata": {
      "needs_background": "light"
     },
     "output_type": "display_data"
    }
   ],
   "source": [
    "import matplotlib.pyplot as plt\n",
    "fig, ax = plt.subplots()\n",
    "res = df_slimmer_cols.query(\"date_cat.dt.year<2020\").date_cat.dt.year.value_counts().sort_index()\n",
    "res.plot(kind=\"bar\", ax=ax)"
   ]
  },
  {
   "cell_type": "code",
   "execution_count": 35,
   "metadata": {},
   "outputs": [
    {
     "data": {
      "image/png": "[encoded data removed]",
      "text/plain": [
       "<Figure size 432x288 with 1 Axes>"
      ]
     },
     "metadata": {
      "needs_background": "light"
     },
     "output_type": "display_data"
    }
   ],
   "source": [
    "fig, ax = plt.subplots()\n",
    "res = df_slimmer_cols.query(\"date_cat.dt.year==2020\").date_cat.dt.month.value_counts().sort_index()\n",
    "res.plot(kind=\"bar\", ax=ax)\n",
    "ax.set(title='Monthly sales for 2020\\nNote circa 3 month reporting lag\\nLockdown in March');"
   ]
  },
  {
   "cell_type": "markdown",
   "metadata": {},
   "source": [
    "# Str speed\n",
    "\n",
    "Making a new \"length of string\" column on 25M rows costs circa 11s"
   ]
  },
  {
   "cell_type": "code",
   "execution_count": 36,
   "metadata": {},
   "outputs": [
    {
     "name": "stdout",
     "output_type": "stream",
     "text": [
      "CPU times: user 11.9 s, sys: 895 ms, total: 12.8 s\n",
      "Wall time: 12.7 s\n"
     ]
    }
   ],
   "source": [
    "%time df['street_nchars'] = df.street.str.len()"
   ]
  },
  {
   "cell_type": "code",
   "execution_count": 43,
   "metadata": {},
   "outputs": [
    {
     "data": {
      "text/plain": [
       "<AxesSubplot:xlabel='street_nchars'>"
      ]
     },
     "execution_count": 43,
     "metadata": {},
     "output_type": "execute_result"
    },
    {
     "data": {
      "image/png": "[encoded data removed]",
      "text/plain": [
       "<Figure size 432x288 with 1 Axes>"
      ]
     },
     "metadata": {
      "needs_background": "light"
     },
     "output_type": "display_data"
    }
   ],
   "source": [
    "res_street_nchars_size = df.groupby('street_nchars')['price'].size()\n",
    "res_street_nchars_size.plot()"
   ]
  },
  {
   "cell_type": "code",
   "execution_count": 62,
   "metadata": {},
   "outputs": [
    {
     "name": "stdout",
     "output_type": "stream",
     "text": [
      "CPU times: user 3.93 s, sys: 1.21 s, total: 5.14 s\n",
      "Wall time: 4.97 s\n",
      "CPU times: user 667 µs, sys: 164 µs, total: 831 µs\n",
      "Wall time: 772 µs\n",
      "CPU times: user 1.03 s, sys: 176 ms, total: 1.21 s\n",
      "Wall time: 1.21 s\n"
     ]
    }
   ],
   "source": [
    "%time res1 = df.query('street_nchars > 4 and street_nchars < 26') # 5s\n",
    "%time res2 = res1.groupby('street_nchars')['price'] # 1s\n",
    "%time res3 = res2.median() # 1s\n",
    "\n",
    "del res1\n",
    "del res2"
   ]
  },
  {
   "cell_type": "code",
   "execution_count": null,
   "metadata": {},
   "outputs": [],
   "source": [
    "if False:\n",
    "    %time mask = df['street_nchars'] < 25 # 18ms\n",
    "    #%time df_masked = df[mask] 13s & copies!\n",
    "    #%time df_masked.groupby('street_nchars')['price'] 10ms\n",
    "    %time df[mask].groupby('street_nchars')['price']"
   ]
  },
  {
   "cell_type": "code",
   "execution_count": 81,
   "metadata": {},
   "outputs": [],
   "source": [
    "#mask = res_street_nchars_size > 5000\n",
    "#res_street_nchars_size"
   ]
  },
  {
   "cell_type": "code",
   "execution_count": 80,
   "metadata": {},
   "outputs": [
    {
     "data": {
      "text/plain": [
       "<matplotlib.legend.Legend at 0x7fe11ba482b0>"
      ]
     },
     "execution_count": 80,
     "metadata": {},
     "output_type": "execute_result"
    },
    {
     "data": {
      "image/png": "[encoded data removed]",
      "text/plain": [
       "<Figure size 432x288 with 2 Axes>"
      ]
     },
     "metadata": {
      "needs_background": "light"
     },
     "output_type": "display_data"
    }
   ],
   "source": [
    "fig, ax = plt.subplots()\n",
    "ax_right = ax.twinx()\n",
    "res3.plot(ax=ax)\n",
    "#ax.set(ymin=0)\n",
    "ax.set_ylim(ymin=0)\n",
    "res_street_nchars_size[res3.index].plot(ax=ax_right, linestyle='--', color='lightblue')\n",
    "ax_right.set_ylabel('Count of sales with this street character length')\n",
    "ax.set_ylabel('Median price for this street character length')\n",
    "ax.legend()"
   ]
  },
  {
   "cell_type": "markdown",
   "metadata": {},
   "source": [
    "## groupby pt year"
   ]
  },
  {
   "cell_type": "code",
   "execution_count": 85,
   "metadata": {},
   "outputs": [],
   "source": [
    "df['year'] = df.date.dt.year"
   ]
  },
  {
   "cell_type": "code",
   "execution_count": 194,
   "metadata": {},
   "outputs": [],
   "source": [
    "gpby = df.groupby(['year', 'pt'])\n",
    "nbr_sales_per_year = gpby.size()\n",
    "# (T)erraced, (S)emi, (D)etached, (F)lat/appartment, (O)ther"
   ]
  },
  {
   "cell_type": "code",
   "execution_count": 195,
   "metadata": {},
   "outputs": [],
   "source": [
    "# sort by approx display order\n",
    "sorted_index = nbr_sales_per_year.unstack().mean().sort_values(ascending=False).index\n",
    "nbr_sales_per_year = nbr_sales_per_year.unstack().T.loc[sorted_index].T\n",
    "nbr_sales_per_year.index.name=\"Year\""
   ]
  },
  {
   "cell_type": "code",
   "execution_count": 196,
   "metadata": {},
   "outputs": [],
   "source": [
    "nbr_sales_per_year = nbr_sales_per_year.rename(columns={'T': 'Terraced', 'S': 'Semi', 'D': 'Detached', 'F': 'Flat', 'O': 'Other'})"
   ]
  },
  {
   "cell_type": "code",
   "execution_count": 200,
   "metadata": {},
   "outputs": [
    {
     "data": {
      "text/plain": [
       "<matplotlib.lines.Line2D at 0x7fe119ab6c40>"
      ]
     },
     "execution_count": 200,
     "metadata": {},
     "output_type": "execute_result"
    },
    {
     "data": {
      "image/png": "[encoded data removed]",
      "text/plain": [
       "<Figure size 432x288 with 1 Axes>"
      ]
     },
     "metadata": {
      "needs_background": "light"
     },
     "output_type": "display_data"
    }
   ],
   "source": [
    "fig, ax = plt.subplots()\n",
    "nbr_sales_per_year.plot(ax=ax)\n",
    "ax.set_title(\"House types total sales by year\\nNote the 'Great Recession'\")\n",
    "ax.spines['top'].set_visible(False)\n",
    "ax.spines['right'].set_visible(False)\n",
    "ax.grid(axis='y') # horizontal grid lines only\n",
    "import matplotlib as mpl\n",
    "ax.get_yaxis().set_major_formatter(mpl.ticker.FuncFormatter(lambda x, p: format(int(x), ',')))\n",
    "ax.set_ylabel(\"Number of sales\");\n",
    "ax.axvline(2007, color='grey', linestyle='--')\n",
    "#ax.legend(frameon=False)"
   ]
  },
  {
   "cell_type": "code",
   "execution_count": 99,
   "metadata": {},
   "outputs": [
    {
     "name": "stdout",
     "output_type": "stream",
     "text": [
      "CPU times: user 558 µs, sys: 0 ns, total: 558 µs\n",
      "Wall time: 572 µs\n"
     ]
    },
    {
     "data": {
      "text/plain": [
       "<pandas.core.groupby.generic.DataFrameGroupBy object at 0x7fe11a018040>"
      ]
     },
     "execution_count": 99,
     "metadata": {},
     "output_type": "execute_result"
    }
   ],
   "source": [
    "%time df.groupby(['year', 'pt'])"
   ]
  },
  {
   "cell_type": "code",
   "execution_count": 91,
   "metadata": {},
   "outputs": [
    {
     "name": "stdout",
     "output_type": "stream",
     "text": [
      "peak memory: 12144.44 MiB, increment: 0.17 MiB\n"
     ]
    }
   ],
   "source": [
    "%memit df.groupby(['year', 'pt'])"
   ]
  },
  {
   "cell_type": "code",
   "execution_count": 100,
   "metadata": {},
   "outputs": [
    {
     "name": "stdout",
     "output_type": "stream",
     "text": [
      "peak memory: 12338.70 MiB, increment: 194.23 MiB\n"
     ]
    }
   ],
   "source": [
    "%memit gpby.size()"
   ]
  },
  {
   "cell_type": "code",
   "execution_count": 102,
   "metadata": {},
   "outputs": [
    {
     "name": "stdout",
     "output_type": "stream",
     "text": [
      "CPU times: user 182 ms, sys: 47.7 ms, total: 230 ms\n",
      "Wall time: 228 ms\n"
     ]
    },
    {
     "data": {
      "text/plain": [
       "year  pt\n",
       "1995  D     191887\n",
       "      F     110841\n",
       "      O          7\n",
       "      S     242913\n",
       "      T     250996\n",
       "             ...  \n",
       "2020  D      69845\n",
       "      F      49990\n",
       "      O      17057\n",
       "      S      89370\n",
       "      T      94824\n",
       "Length: 130, dtype: int64"
      ]
     },
     "execution_count": 102,
     "metadata": {},
     "output_type": "execute_result"
    }
   ],
   "source": [
    "%time gpby.size();"
   ]
  },
  {
   "cell_type": "code",
   "execution_count": 103,
   "metadata": {},
   "outputs": [
    {
     "name": "stdout",
     "output_type": "stream",
     "text": [
      "peak memory: 12533.13 MiB, increment: 388.66 MiB\n"
     ]
    }
   ],
   "source": [
    "%memit df.groupby(['year']).size()"
   ]
  },
  {
   "cell_type": "code",
   "execution_count": 104,
   "metadata": {},
   "outputs": [
    {
     "name": "stdout",
     "output_type": "stream",
     "text": [
      "peak memory: 13073.68 MiB, increment: 929.11 MiB\n"
     ]
    }
   ],
   "source": [
    "%memit df.groupby(['year', 'pt']).size()"
   ]
  },
  {
   "cell_type": "code",
   "execution_count": 209,
   "metadata": {},
   "outputs": [
    {
     "name": "stdout",
     "output_type": "stream",
     "text": [
      "peak memory: 14064.73 MiB, increment: 1160.05 MiB\n"
     ]
    }
   ],
   "source": [
    "%memit df.groupby(['year', 'pt', 'new']).size() "
   ]
  },
  {
   "cell_type": "code",
   "execution_count": 141,
   "metadata": {},
   "outputs": [
    {
     "data": {
      "text/plain": [
       "(26,)"
      ]
     },
     "execution_count": 141,
     "metadata": {},
     "output_type": "execute_result"
    }
   ],
   "source": [
    "df.groupby(['year']).size().shape"
   ]
  },
  {
   "cell_type": "code",
   "execution_count": 112,
   "metadata": {},
   "outputs": [
    {
     "data": {
      "text/plain": [
       "(247,)"
      ]
     },
     "execution_count": 112,
     "metadata": {},
     "output_type": "execute_result"
    }
   ],
   "source": [
    "df.groupby(['year', 'pt', 'new']).size().shape"
   ]
  },
  {
   "cell_type": "code",
   "execution_count": 204,
   "metadata": {},
   "outputs": [],
   "source": [
    "df_slimmer_cols['year_cat'] = df_slimmer_cols.date_cat.dt.year.astype('category')\n",
    "df_slimmer_cols['new_cat'] = df['new'].astype('category')"
   ]
  },
  {
   "cell_type": "code",
   "execution_count": 210,
   "metadata": {},
   "outputs": [
    {
     "name": "stdout",
     "output_type": "stream",
     "text": [
      "peak memory: 13739.89 MiB, increment: 835.22 MiB\n"
     ]
    }
   ],
   "source": [
    "%memit df_slimmer_cols.groupby(['year_cat', 'pt_cat', 'new_cat']).size() "
   ]
  },
  {
   "cell_type": "markdown",
   "metadata": {},
   "source": [
    "# Paon"
   ]
  },
  {
   "cell_type": "code",
   "execution_count": 137,
   "metadata": {},
   "outputs": [
    {
     "name": "stdout",
     "output_type": "stream",
     "text": [
      "CPU times: user 18.4 s, sys: 765 ms, total: 19.2 s\n",
      "Wall time: 19.2 s\n"
     ]
    }
   ],
   "source": [
    "def c(item):\n",
    "    try:\n",
    "        # could be \"Severn Court\" or \"22\" or missing\n",
    "        return int(item)\n",
    "    except ValueError:\n",
    "        return np.NaN\n",
    "    \n",
    "%time df['paon_nbr'] = df['paon'].apply(c).astype('Int64')"
   ]
  },
  {
   "cell_type": "code",
   "execution_count": 140,
   "metadata": {},
   "outputs": [
    {
     "data": {
      "text/plain": [
       "NaN    4496642\n",
       "1       633683\n",
       "2       633457\n",
       "Name: paon_nbr, dtype: Int64"
      ]
     },
     "execution_count": 140,
     "metadata": {},
     "output_type": "execute_result"
    }
   ],
   "source": [
    "df['paon_nbr'].value_counts(dropna=False)[:3]"
   ]
  },
  {
   "cell_type": "code",
   "execution_count": 138,
   "metadata": {},
   "outputs": [
    {
     "data": {
      "text/plain": [
       "<AxesSubplot:>"
      ]
     },
     "execution_count": 138,
     "metadata": {},
     "output_type": "execute_result"
    },
    {
     "data": {
      "image/png": "[encoded data removed]",
      "text/plain": [
       "<Figure size 432x288 with 1 Axes>"
      ]
     },
     "metadata": {
      "needs_background": "light"
     },
     "output_type": "display_data"
    }
   ],
   "source": [
    "df['paon_nbr'].value_counts(dropna=False).sort_index()[1:30].plot(kind='bar')"
   ]
  },
  {
   "cell_type": "markdown",
   "metadata": {},
   "source": [
    "# Math speed"
   ]
  },
  {
   "cell_type": "code",
   "execution_count": null,
   "metadata": {},
   "outputs": [],
   "source": [
    "# no useful speedup on int\n",
    "pd.options.compute.use_bottleneck=False\n",
    "pd.options.compute.use_numexpr=False\n",
    "%timeit df.price.mean()"
   ]
  },
  {
   "cell_type": "code",
   "execution_count": null,
   "metadata": {},
   "outputs": [],
   "source": []
  },
  {
   "cell_type": "code",
   "execution_count": 211,
   "metadata": {},
   "outputs": [
    {
     "name": "stdout",
     "output_type": "stream",
     "text": [
      "49.2 ms ± 1.61 ms per loop (mean ± std. dev. of 7 runs, 10 loops each)\n"
     ]
    }
   ],
   "source": [
    "pd.options.compute.use_bottleneck=True\n",
    "%timeit df.price.mean()"
   ]
  },
  {
   "cell_type": "code",
   "execution_count": 212,
   "metadata": {},
   "outputs": [
    {
     "name": "stdout",
     "output_type": "stream",
     "text": [
      "34.3 ms ± 1.99 ms per loop (mean ± std. dev. of 7 runs, 10 loops each)\n"
     ]
    }
   ],
   "source": [
    "%timeit df.price.to_numpy().mean()"
   ]
  },
  {
   "cell_type": "code",
   "execution_count": 213,
   "metadata": {},
   "outputs": [
    {
     "name": "stdout",
     "output_type": "stream",
     "text": [
      "34.7 ms ± 1.12 ms per loop (mean ± std. dev. of 7 runs, 10 loops each)\n"
     ]
    }
   ],
   "source": [
    "%timeit np.nanmean(df.price.to_numpy())"
   ]
  },
  {
   "cell_type": "code",
   "execution_count": null,
   "metadata": {},
   "outputs": [],
   "source": []
  },
  {
   "cell_type": "code",
   "execution_count": 216,
   "metadata": {},
   "outputs": [],
   "source": [
    "df['price_f64'] = df.price.astype('float64')\n",
    "assert (df.price == df.price_f64).all()\n",
    "assert (df.price_f64.isnull() == False).all()"
   ]
  },
  {
   "cell_type": "code",
   "execution_count": 217,
   "metadata": {},
   "outputs": [
    {
     "name": "stdout",
     "output_type": "stream",
     "text": [
      "137 ms ± 19.8 ms per loop (mean ± std. dev. of 7 runs, 10 loops each)\n"
     ]
    }
   ],
   "source": [
    "# affects float, much less for int\n",
    "pd.options.compute.use_bottleneck=False\n",
    "%timeit df.price_f64.mean()"
   ]
  },
  {
   "cell_type": "code",
   "execution_count": 218,
   "metadata": {},
   "outputs": [
    {
     "name": "stdout",
     "output_type": "stream",
     "text": [
      "148 ms ± 14.2 ms per loop (mean ± std. dev. of 7 runs, 1 loop each)\n"
     ]
    }
   ],
   "source": [
    "%timeit np.nanmean(df.price_f64.to_numpy())"
   ]
  },
  {
   "cell_type": "code",
   "execution_count": 219,
   "metadata": {},
   "outputs": [],
   "source": [
    "assert np.isnan(np.mean(   np.array([np.nan, 1, 2, 3])))\n",
    "assert   2.0 == np.nanmean(np.array([np.nan, 1, 2, 3]))"
   ]
  },
  {
   "cell_type": "code",
   "execution_count": 220,
   "metadata": {},
   "outputs": [
    {
     "name": "stdout",
     "output_type": "stream",
     "text": [
      "55.3 ms ± 13.1 ms per loop (mean ± std. dev. of 7 runs, 10 loops each)\n"
     ]
    }
   ],
   "source": [
    "pd.options.compute.use_bottleneck=True\n",
    "%timeit df.price_f64.mean()"
   ]
  },
  {
   "cell_type": "code",
   "execution_count": 221,
   "metadata": {},
   "outputs": [
    {
     "name": "stdout",
     "output_type": "stream",
     "text": [
      "16.8 ms ± 1.56 ms per loop (mean ± std. dev. of 7 runs, 10 loops each)\n"
     ]
    }
   ],
   "source": [
    "%timeit df.price_f64.to_numpy().mean()"
   ]
  },
  {
   "cell_type": "code",
   "execution_count": null,
   "metadata": {},
   "outputs": [],
   "source": []
  },
  {
   "cell_type": "markdown",
   "metadata": {},
   "source": [
    "## numexpr test\n",
    "\n",
    "NOTE not clear that adding numexpr helps, but it isn't clear if it is being used or if it is even the bottleneck!"
   ]
  },
  {
   "cell_type": "code",
   "execution_count": null,
   "metadata": {},
   "outputs": [],
   "source": [
    "df['year'] = df.date.dt.year"
   ]
  },
  {
   "cell_type": "code",
   "execution_count": null,
   "metadata": {},
   "outputs": [],
   "source": [
    "#qry = \"pt == 'D' and price > 50_000 and price < 500_000\"\n",
    "#qry = \"pt == 'T' and price > 50_000\"\n",
    "#(12935989, 19)\n",
    "#qry = \"year > 2000 and year < 2015 and price > 50_000 and price < 1_000_000 and street_nchars != 5\" # \n",
    "#(12938903, 19)\n",
    "#qry = \"year > 2000 and year < 2015 and price > 50_000 and price < 1_000_000\"\n",
    "qry = \"year > 2000 & year < 2015 & ((price*price) > 50_000)\"\n",
    "\n",
    "print(df.query(qry).shape)\n",
    "pd.options.compute.use_numexpr=False\n",
    "%time df.query(qry).shape\n",
    "pd.options.compute.use_numexpr=True\n",
    "%time df.query(qry).shape"
   ]
  },
  {
   "cell_type": "code",
   "execution_count": null,
   "metadata": {},
   "outputs": [],
   "source": [
    "pd.options.compute.use_numexpr=False\n",
    "%timeit df.query(qry).shape"
   ]
  },
  {
   "cell_type": "code",
   "execution_count": null,
   "metadata": {},
   "outputs": [],
   "source": [
    "pd.options.compute.use_numexpr=True\n",
    "%timeit df.query(qry).shape"
   ]
  },
  {
   "cell_type": "code",
   "execution_count": null,
   "metadata": {},
   "outputs": [],
   "source": [
    "df.head()"
   ]
  },
  {
   "cell_type": "markdown",
   "metadata": {},
   "source": [
    "# Extract \"is_cottage\", groupby mean"
   ]
  },
  {
   "cell_type": "markdown",
   "metadata": {},
   "source": [
    "# TEMP"
   ]
  },
  {
   "cell_type": "code",
   "execution_count": null,
   "metadata": {},
   "outputs": [],
   "source": [
    "dfx = pd.DataFrame({'a': [np.nan, 1, 2, 2, 3], 'b': [1, 1, 1, 1, 1]})\n",
    "dfx.groupby('a', dropna=False).size()"
   ]
  },
  {
   "cell_type": "code",
   "execution_count": null,
   "metadata": {},
   "outputs": [],
   "source": [
    "dfx.a.value_counts(dropna=False)"
   ]
  },
  {
   "cell_type": "code",
   "execution_count": null,
   "metadata": {},
   "outputs": [],
   "source": []
  }
 ],
 "metadata": {
  "kernelspec": {
   "display_name": "Python 3",
   "language": "python",
   "name": "python3"
  },
  "language_info": {
   "codemirror_mode": {
    "name": "ipython",
    "version": 3
   },
   "file_extension": ".py",
   "mimetype": "text/x-python",
   "name": "python",
   "nbconvert_exporter": "python",
   "pygments_lexer": "ipython3",
   "version": "3.8.6"
  }
 },
 "nbformat": 4,
 "nbformat_minor": 4
}
