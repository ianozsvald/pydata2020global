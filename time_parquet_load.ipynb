{
 "cells": [
  {
   "cell_type": "code",
   "execution_count": 1,
   "metadata": {},
   "outputs": [],
   "source": [
    "import time\n",
    "import dask.dataframe as dd\n",
    "from dask.distributed import Client\n",
    "from config import *\n",
    "import simpler_pandas\n",
    "import numpy as np\n",
    "\n",
    "import matplotlib.pyplot as plt\n",
    "import simpler_mpl\n",
    "\n",
    "\n",
    "%load_ext autoreload\n",
    "%autoreload 2"
   ]
  },
  {
   "cell_type": "code",
   "execution_count": 2,
   "metadata": {},
   "outputs": [
    {
     "name": "stderr",
     "output_type": "stream",
     "text": [
      "/home/ian/miniconda3/envs/pydata2020global/lib/python3.8/site-packages/distributed/node.py:151: UserWarning: Port 8787 is already in use.\n",
      "Perhaps you already have a cluster running?\n",
      "Hosting the HTTP server on port 41841 instead\n",
      "  warnings.warn(\n"
     ]
    },
    {
     "name": "stdout",
     "output_type": "stream",
     "text": [
      "<Client: 'tcp://127.0.0.1:42033' processes=4 threads=4, memory=24.00 GB>\n"
     ]
    },
    {
     "data": {
      "text/plain": [
       "tin                 object\n",
       "price                int64\n",
       "date        datetime64[ns]\n",
       "postcode            object\n",
       "pt                  object\n",
       "new                 object\n",
       "duration            object\n",
       "paon                object\n",
       "saon                object\n",
       "street              object\n",
       "locality            object\n",
       "town                object\n",
       "district            object\n",
       "county              object\n",
       "ppd_cat             object\n",
       "status              object\n",
       "dtype: object"
      ]
     },
     "execution_count": 2,
     "metadata": {},
     "output_type": "execute_result"
    }
   ],
   "source": [
    "if 'client' not in dir():\n",
    "    client = Client(n_workers=4, threads_per_worker=1, processes=True, memory_limit='6GB')\n",
    "    print(client)\n",
    "\n",
    "DATA = DATA_PARQUET_10_SNAPPY \n",
    "ddf = dd.read_parquet(DATA)\n",
    "ddf.dtypes"
   ]
  },
  {
   "cell_type": "code",
   "execution_count": 3,
   "metadata": {},
   "outputs": [
    {
     "data": {
      "text/plain": [
       "(25467513, 16)"
      ]
     },
     "execution_count": 3,
     "metadata": {},
     "output_type": "execute_result"
    }
   ],
   "source": [
    "df = ddf.compute()\n",
    "df.shape"
   ]
  },
  {
   "cell_type": "code",
   "execution_count": 11,
   "metadata": {},
   "outputs": [],
   "source": [
    "np.logspace?"
   ]
  },
  {
   "cell_type": "code",
   "execution_count": 82,
   "metadata": {},
   "outputs": [
    {
     "name": "stdout",
     "output_type": "stream",
     "text": [
      "[10, 100, 1000, 10000, 100000, 1000000, 10000000, 100000000]\n",
      "(10, 16)\n",
      "(10, 16)\n",
      "(100, 16)\n",
      "(100, 16)\n",
      "(1000, 16)\n",
      "(1000, 16)\n",
      "(10000, 16)\n",
      "(10000, 16)\n",
      "(100000, 16)\n",
      "(100000, 16)\n",
      "(1000000, 16)\n",
      "(1000000, 16)\n",
      "(10000000, 16)\n",
      "(10000000, 16)\n",
      "(25467513, 16)\n",
      "(25467513, 16)\n"
     ]
    }
   ],
   "source": [
    "import pandas as pd\n",
    "\n",
    "all_nrows = [int(n) for n in np.logspace(1, 8, num=8)]\n",
    "print(all_nrows)\n",
    "timings = []\n",
    "for nrows in all_nrows:\n",
    "    for n_sample in range(2):\n",
    "        dfs = df[:nrows]\n",
    "        dfs.to_parquet('/tmp/out.parquet')\n",
    "        t1 = time.time()\n",
    "        dfs2 = pd.read_parquet('/tmp/out.parquet')\n",
    "        print(dfs2.shape)\n",
    "        delta = time.time() - t1\n",
    "        timings.append((nrows, delta))\n"
   ]
  },
  {
   "cell_type": "code",
   "execution_count": 161,
   "metadata": {},
   "outputs": [
    {
     "data": {
      "text/html": [
       "<div>\n",
       "<style scoped>\n",
       "    .dataframe tbody tr th:only-of-type {\n",
       "        vertical-align: middle;\n",
       "    }\n",
       "\n",
       "    .dataframe tbody tr th {\n",
       "        vertical-align: top;\n",
       "    }\n",
       "\n",
       "    .dataframe thead th {\n",
       "        text-align: right;\n",
       "    }\n",
       "</style>\n",
       "<table border=\"1\" class=\"dataframe\">\n",
       "  <thead>\n",
       "    <tr style=\"text-align: right;\">\n",
       "      <th></th>\n",
       "      <th>seconds</th>\n",
       "    </tr>\n",
       "    <tr>\n",
       "      <th>nrows</th>\n",
       "      <th></th>\n",
       "    </tr>\n",
       "  </thead>\n",
       "  <tbody>\n",
       "    <tr>\n",
       "      <th>10</th>\n",
       "      <td>0.005575</td>\n",
       "    </tr>\n",
       "    <tr>\n",
       "      <th>100</th>\n",
       "      <td>0.005785</td>\n",
       "    </tr>\n",
       "    <tr>\n",
       "      <th>1000</th>\n",
       "      <td>0.008117</td>\n",
       "    </tr>\n",
       "    <tr>\n",
       "      <th>10000</th>\n",
       "      <td>0.023356</td>\n",
       "    </tr>\n",
       "    <tr>\n",
       "      <th>100000</th>\n",
       "      <td>0.186751</td>\n",
       "    </tr>\n",
       "    <tr>\n",
       "      <th>1000000</th>\n",
       "      <td>2.070107</td>\n",
       "    </tr>\n",
       "    <tr>\n",
       "      <th>10000000</th>\n",
       "      <td>19.588532</td>\n",
       "    </tr>\n",
       "  </tbody>\n",
       "</table>\n",
       "</div>"
      ],
      "text/plain": [
       "            seconds\n",
       "nrows              \n",
       "10         0.005575\n",
       "100        0.005785\n",
       "1000       0.008117\n",
       "10000      0.023356\n",
       "100000     0.186751\n",
       "1000000    2.070107\n",
       "10000000  19.588532"
      ]
     },
     "execution_count": 161,
     "metadata": {},
     "output_type": "execute_result"
    }
   ],
   "source": [
    "df_seconds_all = pd.DataFrame(timings, columns=['nrows', 'seconds'])[:-2]\n",
    "df_seconds = df_seconds_all.groupby(df_seconds_all.nrows)[['seconds']].min()\n",
    "df_seconds"
   ]
  },
  {
   "cell_type": "code",
   "execution_count": 205,
   "metadata": {},
   "outputs": [
    {
     "data": {
      "image/png": "[encoded data removed]",
      "text/plain": [
       "<Figure size 432x288 with 1 Axes>"
      ]
     },
     "metadata": {
      "needs_background": "light"
     },
     "output_type": "display_data"
    }
   ],
   "source": [
    "fig, ax = plt.subplots(constrained_layout=True)\n",
    "df_seconds.plot(kind='bar', ax=ax)\n",
    "\n",
    "min_time = float(df_seconds.min())\n",
    "title = f\"Speed for Parquet read\\nFastest read speed {min_time:0.3f}s\"\n",
    "simpler_mpl.set_common_mpl_styles(ax, ylabel='Seconds', xlabel='Rows read', \n",
    "                                  title=title, legend=False, grid_axis='y')\n",
    "ax.semilogy()\n",
    "simpler_mpl.rotate_labels(x_axis=True)\n",
    "simpler_mpl.set_commas(ax, y_axis=False, x_axis=True)"
   ]
  },
  {
   "cell_type": "code",
   "execution_count": 207,
   "metadata": {},
   "outputs": [
    {
     "data": {
      "image/png": "[encoded data removed]",
      "text/plain": [
       "<Figure size 432x288 with 1 Axes>"
      ]
     },
     "metadata": {
      "needs_background": "light"
     },
     "output_type": "display_data"
    }
   ],
   "source": [
    "#pd.set_option('plotting.backend', 'matplotlib') \n",
    "df_to_plot = df_seconds.reset_index().assign(nrows=[f'{v:,}' for v in df_seconds.index])\n",
    "fig, ax = plt.subplots(constrained_layout=True)\n",
    "df_to_plot.set_index('nrows').plot(kind='bar', ax=ax)\n",
    "min_time = float(df_seconds.min())\n",
    "title = f\"Speed for Parquet read\\nFastest read speed {min_time:0.3f}s\"\n",
    "simpler_mpl.set_common_mpl_styles(ax, ylabel='Seconds', xlabel='Rows read', \n",
    "                                  title=title, legend=False, grid_axis='y')\n",
    "ax.semilogy()\n",
    "simpler_mpl.rotate_labels(x_axis=True)\n"
   ]
  },
  {
   "cell_type": "code",
   "execution_count": 155,
   "metadata": {},
   "outputs": [
    {
     "data": {
      "image/png": "[encoded data removed]",
      "text/plain": [
       "<Figure size 432x288 with 1 Axes>"
      ]
     },
     "metadata": {
      "needs_background": "light"
     },
     "output_type": "display_data"
    }
   ],
   "source": [
    "fig, ax = plt.subplots(constrained_layout=True)\n",
    "df_seconds.plot(kind='bar', ax=ax)\n",
    "#fig.draw()\n",
    "#plt.draw()\n",
    "import matplotlib.ticker as mtick\n",
    "fmt = '{x:,}'\n",
    "tick = mtick.StrMethodFormatter(fmt)\n",
    "ax.xaxis.set_major_formatter(tick) # works but still bad label\n",
    "\n",
    "\n",
    "#simpler_mpl.set_common_mpl_styles(ax, ylabel='Seconds', xlabel='Rows read', \n",
    "#                                  title=\"Speed for Parquet read\", legend=False, grid_axis='y')\n",
    "#ax.semilogy()\n",
    "#simpler_mpl.rotate_labels(x_axis=True)\n",
    "#simpler_mpl.set_commas(ax, y_axis=False, x_axis=True)\n",
    "#simpler_mpl.set_human_format(ax, on_y_axis=True, precision=1, trim_0_decimals=True)\n",
    "\n",
    "#simpler_mpl.set_human_format(plt.gca(), on_x_axis=True, precision=0, prefix=\"\", )\n",
    "\n",
    "#plt.xticks()[1][0] # gets rendered xtick text\n",
    "#t=plt.xticks()[1][0]\n",
    "#import matplotlib as mpl\n",
    "#plt.gca().xaxis.set_major_formatter(mpl.ticker.FormatStrFormatter('%.2f%%'))    \n",
    "#simpler_mpl.set_commas(ax, x_axis=True)\n",
    "#ax.get_xticklabels() # this works"
   ]
  },
  {
   "cell_type": "code",
   "execution_count": 168,
   "metadata": {},
   "outputs": [],
   "source": [
    "import altair as alt\n",
    "#pd.set_option('plotting.backend', 'altair') "
   ]
  },
  {
   "cell_type": "code",
   "execution_count": 171,
   "metadata": {},
   "outputs": [
    {
     "data": {
      "text/html": [
       "<div>\n",
       "<style scoped>\n",
       "    .dataframe tbody tr th:only-of-type {\n",
       "        vertical-align: middle;\n",
       "    }\n",
       "\n",
       "    .dataframe tbody tr th {\n",
       "        vertical-align: top;\n",
       "    }\n",
       "\n",
       "    .dataframe thead th {\n",
       "        text-align: right;\n",
       "    }\n",
       "</style>\n",
       "<table border=\"1\" class=\"dataframe\">\n",
       "  <thead>\n",
       "    <tr style=\"text-align: right;\">\n",
       "      <th></th>\n",
       "      <th>seconds</th>\n",
       "    </tr>\n",
       "    <tr>\n",
       "      <th>nrows</th>\n",
       "      <th></th>\n",
       "    </tr>\n",
       "  </thead>\n",
       "  <tbody>\n",
       "    <tr>\n",
       "      <th>10</th>\n",
       "      <td>0.005575</td>\n",
       "    </tr>\n",
       "    <tr>\n",
       "      <th>100</th>\n",
       "      <td>0.005785</td>\n",
       "    </tr>\n",
       "    <tr>\n",
       "      <th>1000</th>\n",
       "      <td>0.008117</td>\n",
       "    </tr>\n",
       "    <tr>\n",
       "      <th>10000</th>\n",
       "      <td>0.023356</td>\n",
       "    </tr>\n",
       "    <tr>\n",
       "      <th>100000</th>\n",
       "      <td>0.186751</td>\n",
       "    </tr>\n",
       "    <tr>\n",
       "      <th>1000000</th>\n",
       "      <td>2.070107</td>\n",
       "    </tr>\n",
       "    <tr>\n",
       "      <th>10000000</th>\n",
       "      <td>19.588532</td>\n",
       "    </tr>\n",
       "  </tbody>\n",
       "</table>\n",
       "</div>"
      ],
      "text/plain": [
       "            seconds\n",
       "nrows              \n",
       "10         0.005575\n",
       "100        0.005785\n",
       "1000       0.008117\n",
       "10000      0.023356\n",
       "100000     0.186751\n",
       "1000000    2.070107\n",
       "10000000  19.588532"
      ]
     },
     "execution_count": 171,
     "metadata": {},
     "output_type": "execute_result"
    }
   ],
   "source": [
    "df_seconds"
   ]
  },
  {
   "cell_type": "code",
   "execution_count": 190,
   "metadata": {},
   "outputs": [
    {
     "data": {
      "text/html": [
       "<div>\n",
       "<style scoped>\n",
       "    .dataframe tbody tr th:only-of-type {\n",
       "        vertical-align: middle;\n",
       "    }\n",
       "\n",
       "    .dataframe tbody tr th {\n",
       "        vertical-align: top;\n",
       "    }\n",
       "\n",
       "    .dataframe thead th {\n",
       "        text-align: right;\n",
       "    }\n",
       "</style>\n",
       "<table border=\"1\" class=\"dataframe\">\n",
       "  <thead>\n",
       "    <tr style=\"text-align: right;\">\n",
       "      <th></th>\n",
       "      <th>nrows</th>\n",
       "      <th>seconds</th>\n",
       "    </tr>\n",
       "  </thead>\n",
       "  <tbody>\n",
       "    <tr>\n",
       "      <th>0</th>\n",
       "      <td>10</td>\n",
       "      <td>0.005575</td>\n",
       "    </tr>\n",
       "    <tr>\n",
       "      <th>1</th>\n",
       "      <td>100</td>\n",
       "      <td>0.005785</td>\n",
       "    </tr>\n",
       "    <tr>\n",
       "      <th>2</th>\n",
       "      <td>1,000</td>\n",
       "      <td>0.008117</td>\n",
       "    </tr>\n",
       "    <tr>\n",
       "      <th>3</th>\n",
       "      <td>10,000</td>\n",
       "      <td>0.023356</td>\n",
       "    </tr>\n",
       "    <tr>\n",
       "      <th>4</th>\n",
       "      <td>100,000</td>\n",
       "      <td>0.186751</td>\n",
       "    </tr>\n",
       "    <tr>\n",
       "      <th>5</th>\n",
       "      <td>1,000,000</td>\n",
       "      <td>2.070107</td>\n",
       "    </tr>\n",
       "    <tr>\n",
       "      <th>6</th>\n",
       "      <td>10,000,000</td>\n",
       "      <td>19.588532</td>\n",
       "    </tr>\n",
       "  </tbody>\n",
       "</table>\n",
       "</div>"
      ],
      "text/plain": [
       "        nrows    seconds\n",
       "0          10   0.005575\n",
       "1         100   0.005785\n",
       "2       1,000   0.008117\n",
       "3      10,000   0.023356\n",
       "4     100,000   0.186751\n",
       "5   1,000,000   2.070107\n",
       "6  10,000,000  19.588532"
      ]
     },
     "execution_count": 190,
     "metadata": {},
     "output_type": "execute_result"
    }
   ],
   "source": [
    "df_seconds.reset_index().assign(nrows=[f'{v:,}' for v in df_seconds.index])"
   ]
  },
  {
   "cell_type": "code",
   "execution_count": 195,
   "metadata": {},
   "outputs": [
    {
     "data": {
      "text/html": [
       "<div>\n",
       "<style scoped>\n",
       "    .dataframe tbody tr th:only-of-type {\n",
       "        vertical-align: middle;\n",
       "    }\n",
       "\n",
       "    .dataframe tbody tr th {\n",
       "        vertical-align: top;\n",
       "    }\n",
       "\n",
       "    .dataframe thead th {\n",
       "        text-align: right;\n",
       "    }\n",
       "</style>\n",
       "<table border=\"1\" class=\"dataframe\">\n",
       "  <thead>\n",
       "    <tr style=\"text-align: right;\">\n",
       "      <th></th>\n",
       "      <th>nrows</th>\n",
       "      <th>seconds</th>\n",
       "    </tr>\n",
       "  </thead>\n",
       "  <tbody>\n",
       "    <tr>\n",
       "      <th>0</th>\n",
       "      <td>10</td>\n",
       "      <td>0.005575</td>\n",
       "    </tr>\n",
       "    <tr>\n",
       "      <th>1</th>\n",
       "      <td>100</td>\n",
       "      <td>0.005785</td>\n",
       "    </tr>\n",
       "    <tr>\n",
       "      <th>2</th>\n",
       "      <td>1,000</td>\n",
       "      <td>0.008117</td>\n",
       "    </tr>\n",
       "    <tr>\n",
       "      <th>3</th>\n",
       "      <td>10,000</td>\n",
       "      <td>0.023356</td>\n",
       "    </tr>\n",
       "    <tr>\n",
       "      <th>4</th>\n",
       "      <td>100,000</td>\n",
       "      <td>0.186751</td>\n",
       "    </tr>\n",
       "    <tr>\n",
       "      <th>5</th>\n",
       "      <td>1,000,000</td>\n",
       "      <td>2.070107</td>\n",
       "    </tr>\n",
       "    <tr>\n",
       "      <th>6</th>\n",
       "      <td>10,000,000</td>\n",
       "      <td>19.588532</td>\n",
       "    </tr>\n",
       "  </tbody>\n",
       "</table>\n",
       "</div>"
      ],
      "text/plain": [
       "        nrows    seconds\n",
       "0          10   0.005575\n",
       "1         100   0.005785\n",
       "2       1,000   0.008117\n",
       "3      10,000   0.023356\n",
       "4     100,000   0.186751\n",
       "5   1,000,000   2.070107\n",
       "6  10,000,000  19.588532"
      ]
     },
     "execution_count": 195,
     "metadata": {},
     "output_type": "execute_result"
    }
   ],
   "source": [
    "df_to_plot"
   ]
  },
  {
   "cell_type": "code",
   "execution_count": 200,
   "metadata": {},
   "outputs": [
    {
     "data": {
      "text/html": [
       "\n",
       "<div id=\"altair-viz-dd82875e51e748f89e14461112bbeefc\"></div>\n",
       "<script type=\"text/javascript\">\n",
       "  (function(spec, embedOpt){\n",
       "    let outputDiv = document.currentScript.previousElementSibling;\n",
       "    if (outputDiv.id !== \"altair-viz-dd82875e51e748f89e14461112bbeefc\") {\n",
       "      outputDiv = document.getElementById(\"altair-viz-dd82875e51e748f89e14461112bbeefc\");\n",
       "    }\n",
       "    const paths = {\n",
       "      \"vega\": \"https://cdn.jsdelivr.net/npm//vega@5?noext\",\n",
       "      \"vega-lib\": \"https://cdn.jsdelivr.net/npm//vega-lib?noext\",\n",
       "      \"vega-lite\": \"https://cdn.jsdelivr.net/npm//vega-lite@4.8.1?noext\",\n",
       "      \"vega-embed\": \"https://cdn.jsdelivr.net/npm//vega-embed@6?noext\",\n",
       "    };\n",
       "\n",
       "    function loadScript(lib) {\n",
       "      return new Promise(function(resolve, reject) {\n",
       "        var s = document.createElement('script');\n",
       "        s.src = paths[lib];\n",
       "        s.async = true;\n",
       "        s.onload = () => resolve(paths[lib]);\n",
       "        s.onerror = () => reject(`Error loading script: ${paths[lib]}`);\n",
       "        document.getElementsByTagName(\"head\")[0].appendChild(s);\n",
       "      });\n",
       "    }\n",
       "\n",
       "    function showError(err) {\n",
       "      outputDiv.innerHTML = `<div class=\"error\" style=\"color:red;\">${err}</div>`;\n",
       "      throw err;\n",
       "    }\n",
       "\n",
       "    function displayChart(vegaEmbed) {\n",
       "      vegaEmbed(outputDiv, spec, embedOpt)\n",
       "        .catch(err => showError(`Javascript Error: ${err.message}<br>This usually means there's a typo in your chart specification. See the javascript console for the full traceback.`));\n",
       "    }\n",
       "\n",
       "    if(typeof define === \"function\" && define.amd) {\n",
       "      requirejs.config({paths});\n",
       "      require([\"vega-embed\"], displayChart, err => showError(`Error loading script: ${err.message}`));\n",
       "    } else if (typeof vegaEmbed === \"function\") {\n",
       "      displayChart(vegaEmbed);\n",
       "    } else {\n",
       "      loadScript(\"vega\")\n",
       "        .then(() => loadScript(\"vega-lite\"))\n",
       "        .then(() => loadScript(\"vega-embed\"))\n",
       "        .catch(showError)\n",
       "        .then(() => displayChart(vegaEmbed));\n",
       "    }\n",
       "  })({\"config\": {\"view\": {\"continuousWidth\": 400, \"continuousHeight\": 300}}, \"data\": {\"name\": \"data-c7fbd756d54caf97f192a606bc0d3566\"}, \"mark\": \"bar\", \"encoding\": {\"x\": {\"type\": \"nominal\", \"field\": \"nrows\", \"sort\": [\"10\", \"100\", \"1,000\", \"10,000\", \"100,000\", \"1,000,000\", \"10,000,000\"]}, \"y\": {\"type\": \"quantitative\", \"field\": \"seconds\", \"scale\": {\"type\": \"log\"}}}, \"height\": 200, \"title\": \"Parquet read times by row-count\", \"width\": 200, \"$schema\": \"https://vega.github.io/schema/vega-lite/v4.8.1.json\", \"datasets\": {\"data-c7fbd756d54caf97f192a606bc0d3566\": [{\"nrows\": \"10\", \"seconds\": 0.005575418472290039}, {\"nrows\": \"100\", \"seconds\": 0.005784749984741211}, {\"nrows\": \"1,000\", \"seconds\": 0.008116722106933594}, {\"nrows\": \"10,000\", \"seconds\": 0.023355960845947266}, {\"nrows\": \"100,000\", \"seconds\": 0.1867508888244629}, {\"nrows\": \"1,000,000\", \"seconds\": 2.0701074600219727}, {\"nrows\": \"10,000,000\", \"seconds\": 19.588531732559204}]}}, {\"mode\": \"vega-lite\"});\n",
       "</script>"
      ],
      "text/plain": [
       "alt.Chart(...)"
      ]
     },
     "execution_count": 200,
     "metadata": {},
     "output_type": "execute_result"
    }
   ],
   "source": [
    "df_to_plot = df_seconds.reset_index().assign(nrows=[f'{v:,}' for v in df_seconds.index])\n",
    "alt.Chart(df_to_plot).mark_bar().encode(\n",
    "    x=alt.X('nrows', sort=df_to_plot.nrows.values),\n",
    "    y= alt.Y('seconds', scale= alt.Scale(type= 'log')),\n",
    ").properties(\n",
    "    title='Parquet read times by row-count',\n",
    "    width=200,\n",
    "    height=200\n",
    ")"
   ]
  },
  {
   "cell_type": "code",
   "execution_count": null,
   "metadata": {},
   "outputs": [],
   "source": []
  }
 ],
 "metadata": {
  "kernelspec": {
   "display_name": "Python 3",
   "language": "python",
   "name": "python3"
  },
  "language_info": {
   "codemirror_mode": {
    "name": "ipython",
    "version": 3
   },
   "file_extension": ".py",
   "mimetype": "text/x-python",
   "name": "python",
   "nbconvert_exporter": "python",
   "pygments_lexer": "ipython3",
   "version": "3.8.6"
  }
 },
 "nbformat": 4,
 "nbformat_minor": 4
}
