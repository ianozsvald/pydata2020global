{
 "cells": [
  {
   "cell_type": "markdown",
   "metadata": {},
   "source": [
    "# Short vaex demo"
   ]
  },
  {
   "cell_type": "code",
   "execution_count": 1,
   "metadata": {},
   "outputs": [],
   "source": [
    "import vaex\n",
    "\n",
    "VAEX = '/home/ian/data/land_registry/pp-complete-202009.csv.hdf5'\n",
    "\n",
    "COLUMNS = ['tin',\n",
    " 'price',\n",
    " 'date',\n",
    " 'postcode',\n",
    " 'pt',\n",
    " 'new',\n",
    " 'duration',\n",
    " 'paon',\n",
    " 'saon',\n",
    " 'street',\n",
    " 'locality',\n",
    " 'town',\n",
    " 'district',\n",
    " 'county',\n",
    " 'ppd_cat',\n",
    " 'status']"
   ]
  },
  {
   "cell_type": "code",
   "execution_count": 2,
   "metadata": {},
   "outputs": [],
   "source": [
    "# this will convert the data for you if you have the CSV downloaded from\n",
    "# https://www.gov.uk/government/statistical-data-sets/price-paid-data-downloads\n",
    "# as a Single File CSV (circa 3.7GB)\n",
    "# df = vaex.from_csv(CSV_FILENAME, convert=True, names=COLUMNS)"
   ]
  },
  {
   "cell_type": "code",
   "execution_count": 3,
   "metadata": {},
   "outputs": [
    {
     "name": "stdout",
     "output_type": "stream",
     "text": [
      "/home/ian/data/land_registry/pp-complete-202009.csv.hdf5\n",
      "df has shape (25467513, 16)\n"
     ]
    }
   ],
   "source": [
    "def open():\n",
    "    # this assumes you've pre-converted the data\n",
    "    # and so the Vaex file will sit alongside\n",
    "    # the CSV file\n",
    "    df = vaex.open(VAEX)\n",
    "    print(f\"df has shape {df.shape}\")\n",
    "    return df\n",
    "\n",
    "print(VAEX)\n",
    "vdf = open()"
   ]
  },
  {
   "cell_type": "code",
   "execution_count": 4,
   "metadata": {},
   "outputs": [
    {
     "data": {
      "text/plain": [
       "tin          <class 'str'>\n",
       "price                int64\n",
       "date        datetime64[ns]\n",
       "postcode     <class 'str'>\n",
       "pt           <class 'str'>\n",
       "new          <class 'str'>\n",
       "duration     <class 'str'>\n",
       "paon         <class 'str'>\n",
       "saon         <class 'str'>\n",
       "street       <class 'str'>\n",
       "locality     <class 'str'>\n",
       "town         <class 'str'>\n",
       "district     <class 'str'>\n",
       "county       <class 'str'>\n",
       "ppd_cat      <class 'str'>\n",
       "status       <class 'str'>\n",
       "dtype: object"
      ]
     },
     "execution_count": 4,
     "metadata": {},
     "output_type": "execute_result"
    }
   ],
   "source": [
    "vdf.dtypes"
   ]
  },
  {
   "cell_type": "code",
   "execution_count": 5,
   "metadata": {
    "scrolled": false
   },
   "outputs": [
    {
     "data": {
      "text/html": [
       "<table>\n",
       "<thead>\n",
       "<tr><th>#                            </th><th>tin                                   </th><th style=\"text-align: right;\">  price</th><th>date                         </th><th>postcode  </th><th>pt  </th><th>new  </th><th>duration  </th><th>paon             </th><th>saon   </th><th>street              </th><th>locality       </th><th>town        </th><th>district             </th><th>county        </th><th>ppd_cat  </th><th>status  </th></tr>\n",
       "</thead>\n",
       "<tbody>\n",
       "<tr><td><i style='opacity: 0.6'>0</i></td><td>{A42E2F04-2538-4A25-94C5-49E29C6C8FA8}</td><td style=\"text-align: right;\">  18500</td><td>1995-01-31 00:00:00.000000000</td><td>TQ1 1RY   </td><td>F   </td><td>N    </td><td>L         </td><td>VILLA PARADISO   </td><td>FLAT 10</td><td>HIGHER WARBERRY ROAD</td><td>TORQUAY        </td><td>TORQUAY     </td><td>TORBAY               </td><td>TORBAY        </td><td>A        </td><td>A       </td></tr>\n",
       "<tr><td><i style='opacity: 0.6'>1</i></td><td>{1BA349E3-2579-40D6-999E-49E2A25D2284}</td><td style=\"text-align: right;\">  73450</td><td>1995-10-09 00:00:00.000000000</td><td>L26 7XJ   </td><td>D   </td><td>Y    </td><td>F         </td><td>6                </td><td>None   </td><td>CATKIN ROAD         </td><td>LIVERPOOL      </td><td>LIVERPOOL   </td><td>KNOWSLEY             </td><td>MERSEYSIDE    </td><td>A        </td><td>A       </td></tr>\n",
       "<tr><td><i style='opacity: 0.6'>2</i></td><td>{E5B50DCB-BC7A-4E54-B167-49E2A6B4148B}</td><td style=\"text-align: right;\">  59000</td><td>1995-03-31 00:00:00.000000000</td><td>BH12 2AE  </td><td>D   </td><td>N    </td><td>F         </td><td>28               </td><td>None   </td><td>ALDER ROAD          </td><td>POOLE          </td><td>POOLE       </td><td>POOLE                </td><td>POOLE         </td><td>A        </td><td>A       </td></tr>\n",
       "<tr><td><i style='opacity: 0.6'>3</i></td><td>{81E50116-D675-4B7F-9F8D-49E2B5D43271}</td><td style=\"text-align: right;\">  31000</td><td>1995-12-04 00:00:00.000000000</td><td>IP13 0DR  </td><td>D   </td><td>Y    </td><td>F         </td><td>NONSUCH COTTAGE  </td><td>None   </td><td>THE STREET          </td><td>HACHESTON      </td><td>WOODBRIDGE  </td><td>SUFFOLK COASTAL      </td><td>SUFFOLK       </td><td>A        </td><td>A       </td></tr>\n",
       "<tr><td><i style='opacity: 0.6'>4</i></td><td>{B97455B9-75CB-40BB-A615-42C53683E143}</td><td style=\"text-align: right;\">  95000</td><td>1995-09-22 00:00:00.000000000</td><td>WS14 0BE  </td><td>D   </td><td>N    </td><td>F         </td><td>FOX COVER COTTAGE</td><td>None   </td><td>HALL LANE           </td><td>LICHFIELD      </td><td>LICHFIELD   </td><td>LICHFIELD            </td><td>STAFFORDSHIRE </td><td>A        </td><td>A       </td></tr>\n",
       "<tr><td><i style='opacity: 0.6'>5</i></td><td>{F0D1E8DA-C00D-467A-A41C-42C5378DB6E0}</td><td style=\"text-align: right;\">  45450</td><td>1995-02-28 00:00:00.000000000</td><td>S42 5GA   </td><td>S   </td><td>Y    </td><td>F         </td><td>109              </td><td>None   </td><td>ELVASTON ROAD       </td><td>NORTH WINGFIELD</td><td>CHESTERFIELD</td><td>NORTH EAST DERBYSHIRE</td><td>DERBYSHIRE    </td><td>A        </td><td>A       </td></tr>\n",
       "<tr><td><i style='opacity: 0.6'>6</i></td><td>{7DAC48DA-D479-4922-86B0-42C5580DFC67}</td><td style=\"text-align: right;\">  96000</td><td>1995-10-27 00:00:00.000000000</td><td>KT17 2DU  </td><td>S   </td><td>N    </td><td>F         </td><td>82               </td><td>None   </td><td>KINGSTON ROAD       </td><td>EPSOM          </td><td>EPSOM       </td><td>EPSOM AND EWELL      </td><td>SURREY        </td><td>A        </td><td>A       </td></tr>\n",
       "<tr><td><i style='opacity: 0.6'>7</i></td><td>{10E5F080-7AF3-4982-AAEF-42C55DC955FC}</td><td style=\"text-align: right;\">  30000</td><td>1995-11-28 00:00:00.000000000</td><td>WS10 9LD  </td><td>S   </td><td>N    </td><td>F         </td><td>66               </td><td>None   </td><td>HILL STREET         </td><td>WEDNESBURY     </td><td>WEDNESBURY  </td><td>WALSALL              </td><td>WEST MIDLANDS </td><td>A        </td><td>A       </td></tr>\n",
       "<tr><td><i style='opacity: 0.6'>8</i></td><td>{B365B080-3670-4955-80F8-42C55F081143}</td><td style=\"text-align: right;\"> 425000</td><td>1995-03-31 00:00:00.000000000</td><td>KT11 1HP  </td><td>D   </td><td>N    </td><td>F         </td><td>18               </td><td>None   </td><td>BRUNSWICK GROVE     </td><td>COBHAM         </td><td>COBHAM      </td><td>ELMBRIDGE            </td><td>SURREY        </td><td>A        </td><td>A       </td></tr>\n",
       "<tr><td><i style='opacity: 0.6'>9</i></td><td>{7648EFE5-67A0-4728-B5DE-42C565DA1D28}</td><td style=\"text-align: right;\">  89995</td><td>1995-06-30 00:00:00.000000000</td><td>WF6 2TT   </td><td>D   </td><td>Y    </td><td>F         </td><td>8                </td><td>None   </td><td>SHAW AVENUE         </td><td>NORMANTON      </td><td>NORMANTON   </td><td>WAKEFIELD            </td><td>WEST YORKSHIRE</td><td>A        </td><td>A       </td></tr>\n",
       "</tbody>\n",
       "</table>"
      ],
      "text/plain": [
       "  #  tin                                       price  date                           postcode    pt    new    duration    paon               saon     street                locality         town          district               county          ppd_cat    status\n",
       "  0  {A42E2F04-2538-4A25-94C5-49E29C6C8FA8}    18500  1995-01-31 00:00:00.000000000  TQ1 1RY     F     N      L           VILLA PARADISO     FLAT 10  HIGHER WARBERRY ROAD  TORQUAY          TORQUAY       TORBAY                 TORBAY          A          A\n",
       "  1  {1BA349E3-2579-40D6-999E-49E2A25D2284}    73450  1995-10-09 00:00:00.000000000  L26 7XJ     D     Y      F           6                  None     CATKIN ROAD           LIVERPOOL        LIVERPOOL     KNOWSLEY               MERSEYSIDE      A          A\n",
       "  2  {E5B50DCB-BC7A-4E54-B167-49E2A6B4148B}    59000  1995-03-31 00:00:00.000000000  BH12 2AE    D     N      F           28                 None     ALDER ROAD            POOLE            POOLE         POOLE                  POOLE           A          A\n",
       "  3  {81E50116-D675-4B7F-9F8D-49E2B5D43271}    31000  1995-12-04 00:00:00.000000000  IP13 0DR    D     Y      F           NONSUCH COTTAGE    None     THE STREET            HACHESTON        WOODBRIDGE    SUFFOLK COASTAL        SUFFOLK         A          A\n",
       "  4  {B97455B9-75CB-40BB-A615-42C53683E143}    95000  1995-09-22 00:00:00.000000000  WS14 0BE    D     N      F           FOX COVER COTTAGE  None     HALL LANE             LICHFIELD        LICHFIELD     LICHFIELD              STAFFORDSHIRE   A          A\n",
       "  5  {F0D1E8DA-C00D-467A-A41C-42C5378DB6E0}    45450  1995-02-28 00:00:00.000000000  S42 5GA     S     Y      F           109                None     ELVASTON ROAD         NORTH WINGFIELD  CHESTERFIELD  NORTH EAST DERBYSHIRE  DERBYSHIRE      A          A\n",
       "  6  {7DAC48DA-D479-4922-86B0-42C5580DFC67}    96000  1995-10-27 00:00:00.000000000  KT17 2DU    S     N      F           82                 None     KINGSTON ROAD         EPSOM            EPSOM         EPSOM AND EWELL        SURREY          A          A\n",
       "  7  {10E5F080-7AF3-4982-AAEF-42C55DC955FC}    30000  1995-11-28 00:00:00.000000000  WS10 9LD    S     N      F           66                 None     HILL STREET           WEDNESBURY       WEDNESBURY    WALSALL                WEST MIDLANDS   A          A\n",
       "  8  {B365B080-3670-4955-80F8-42C55F081143}   425000  1995-03-31 00:00:00.000000000  KT11 1HP    D     N      F           18                 None     BRUNSWICK GROVE       COBHAM           COBHAM        ELMBRIDGE              SURREY          A          A\n",
       "  9  {7648EFE5-67A0-4728-B5DE-42C565DA1D28}    89995  1995-06-30 00:00:00.000000000  WF6 2TT     D     Y      F           8                  None     SHAW AVENUE           NORMANTON        NORMANTON     WAKEFIELD              WEST YORKSHIRE  A          A"
      ]
     },
     "execution_count": 5,
     "metadata": {},
     "output_type": "execute_result"
    }
   ],
   "source": [
    "vdf.head()"
   ]
  },
  {
   "cell_type": "code",
   "execution_count": 6,
   "metadata": {},
   "outputs": [
    {
     "name": "stdout",
     "output_type": "stream",
     "text": [
      "Mean for price column: 199101.19\n",
      "CPU times: user 387 ms, sys: 73.4 ms, total: 460 ms\n",
      "Wall time: 108 ms\n"
     ]
    }
   ],
   "source": [
    "%%time\n",
    "print(f'Mean for price column: {vdf.price.mean():0.2f}')"
   ]
  },
  {
   "cell_type": "code",
   "execution_count": 7,
   "metadata": {},
   "outputs": [
    {
     "name": "stdout",
     "output_type": "stream",
     "text": [
      "<class 'vaex.dataframe.DataFrameArrays'>\n"
     ]
    },
    {
     "data": {
      "text/html": [
       "<table>\n",
       "<thead>\n",
       "<tr><th>#                            </th><th>pt  </th><th style=\"text-align: right;\">           count</th></tr>\n",
       "</thead>\n",
       "<tbody>\n",
       "<tr><td><i style='opacity: 0.6'>0</i></td><td>T   </td><td style=\"text-align: right;\">     7.70966e+06</td></tr>\n",
       "<tr><td><i style='opacity: 0.6'>1</i></td><td>D   </td><td style=\"text-align: right;\">     5.85777e+06</td></tr>\n",
       "<tr><td><i style='opacity: 0.6'>2</i></td><td>F   </td><td style=\"text-align: right;\">     4.6032e+06 </td></tr>\n",
       "<tr><td><i style='opacity: 0.6'>3</i></td><td>S   </td><td style=\"text-align: right;\">     6.99735e+06</td></tr>\n",
       "<tr><td><i style='opacity: 0.6'>4</i></td><td>O   </td><td style=\"text-align: right;\">299533          </td></tr>\n",
       "</tbody>\n",
       "</table>"
      ],
      "text/plain": [
       "  #  pt               count\n",
       "  0  T          7.70966e+06\n",
       "  1  D          5.85777e+06\n",
       "  2  F          4.6032e+06\n",
       "  3  S          6.99735e+06\n",
       "  4  O     299533"
      ]
     },
     "execution_count": 7,
     "metadata": {},
     "output_type": "execute_result"
    }
   ],
   "source": [
    "def groupby_pt_count(vdf):\n",
    "    res = vdf.groupby('pt', 'count')\n",
    "    return res\n",
    "\n",
    "res = groupby_pt_count(vdf)\n",
    "print(type(res))\n",
    "res"
   ]
  },
  {
   "cell_type": "code",
   "execution_count": 8,
   "metadata": {},
   "outputs": [
    {
     "name": "stdout",
     "output_type": "stream",
     "text": [
      "<class 'vaex.dataframe.DataFrameArrays'>\n"
     ]
    },
    {
     "data": {
      "text/html": [
       "<table>\n",
       "<thead>\n",
       "<tr><th>#                              </th><th>year  </th><th>pt  </th><th>count  </th></tr>\n",
       "</thead>\n",
       "<tbody>\n",
       "<tr><td><i style='opacity: 0.6'>0</i>  </td><td>2018  </td><td>S   </td><td>268876 </td></tr>\n",
       "<tr><td><i style='opacity: 0.6'>1</i>  </td><td>2018  </td><td>T   </td><td>275576 </td></tr>\n",
       "<tr><td><i style='opacity: 0.6'>2</i>  </td><td>2018  </td><td>D   </td><td>234432 </td></tr>\n",
       "<tr><td><i style='opacity: 0.6'>3</i>  </td><td>2018  </td><td>F   </td><td>184979 </td></tr>\n",
       "<tr><td><i style='opacity: 0.6'>4</i>  </td><td>2018  </td><td>O   </td><td>67280  </td></tr>\n",
       "<tr><td>...                            </td><td>...   </td><td>... </td><td>...    </td></tr>\n",
       "<tr><td><i style='opacity: 0.6'>125</i></td><td>1998  </td><td>S   </td><td>302522 </td></tr>\n",
       "<tr><td><i style='opacity: 0.6'>126</i></td><td>1998  </td><td>T   </td><td>322838 </td></tr>\n",
       "<tr><td><i style='opacity: 0.6'>127</i></td><td>1998  </td><td>D   </td><td>257232 </td></tr>\n",
       "<tr><td><i style='opacity: 0.6'>128</i></td><td>1998  </td><td>F   </td><td>167303 </td></tr>\n",
       "<tr><td><i style='opacity: 0.6'>129</i></td><td>1998  </td><td>O   </td><td>4      </td></tr>\n",
       "</tbody>\n",
       "</table>"
      ],
      "text/plain": [
       "#    year    pt    count\n",
       "0    2018    S     268876\n",
       "1    2018    T     275576\n",
       "2    2018    D     234432\n",
       "3    2018    F     184979\n",
       "4    2018    O     67280\n",
       "...  ...     ...   ...\n",
       "125  1998    S     302522\n",
       "126  1998    T     322838\n",
       "127  1998    D     257232\n",
       "128  1998    F     167303\n",
       "129  1998    O     4"
      ]
     },
     "execution_count": 8,
     "metadata": {},
     "output_type": "execute_result"
    }
   ],
   "source": [
    "def groupby_year_pt_count(vdf):\n",
    "    res = vdf.groupby(['year', 'pt'], 'count')\n",
    "    return res\n",
    "\n",
    "# make a virtual column\n",
    "vdf['year'] = vdf.date.dt.year\n",
    "\n",
    "res = groupby_year_pt_count(vdf)\n",
    "print(type(res))\n",
    "res"
   ]
  },
  {
   "cell_type": "markdown",
   "metadata": {},
   "source": [
    "# We can convert this to a Pandas DataFrame"
   ]
  },
  {
   "cell_type": "code",
   "execution_count": 9,
   "metadata": {},
   "outputs": [
    {
     "data": {
      "text/html": [
       "<div>\n",
       "<style scoped>\n",
       "    .dataframe tbody tr th:only-of-type {\n",
       "        vertical-align: middle;\n",
       "    }\n",
       "\n",
       "    .dataframe tbody tr th {\n",
       "        vertical-align: top;\n",
       "    }\n",
       "\n",
       "    .dataframe thead th {\n",
       "        text-align: right;\n",
       "    }\n",
       "</style>\n",
       "<table border=\"1\" class=\"dataframe\">\n",
       "  <thead>\n",
       "    <tr style=\"text-align: right;\">\n",
       "      <th></th>\n",
       "      <th>year</th>\n",
       "      <th>pt</th>\n",
       "      <th>count</th>\n",
       "    </tr>\n",
       "  </thead>\n",
       "  <tbody>\n",
       "    <tr>\n",
       "      <th>0</th>\n",
       "      <td>2018</td>\n",
       "      <td>S</td>\n",
       "      <td>268876</td>\n",
       "    </tr>\n",
       "    <tr>\n",
       "      <th>1</th>\n",
       "      <td>2018</td>\n",
       "      <td>T</td>\n",
       "      <td>275576</td>\n",
       "    </tr>\n",
       "    <tr>\n",
       "      <th>2</th>\n",
       "      <td>2018</td>\n",
       "      <td>D</td>\n",
       "      <td>234432</td>\n",
       "    </tr>\n",
       "    <tr>\n",
       "      <th>3</th>\n",
       "      <td>2018</td>\n",
       "      <td>F</td>\n",
       "      <td>184979</td>\n",
       "    </tr>\n",
       "    <tr>\n",
       "      <th>4</th>\n",
       "      <td>2018</td>\n",
       "      <td>O</td>\n",
       "      <td>67280</td>\n",
       "    </tr>\n",
       "    <tr>\n",
       "      <th>...</th>\n",
       "      <td>...</td>\n",
       "      <td>...</td>\n",
       "      <td>...</td>\n",
       "    </tr>\n",
       "    <tr>\n",
       "      <th>125</th>\n",
       "      <td>1998</td>\n",
       "      <td>S</td>\n",
       "      <td>302522</td>\n",
       "    </tr>\n",
       "    <tr>\n",
       "      <th>126</th>\n",
       "      <td>1998</td>\n",
       "      <td>T</td>\n",
       "      <td>322838</td>\n",
       "    </tr>\n",
       "    <tr>\n",
       "      <th>127</th>\n",
       "      <td>1998</td>\n",
       "      <td>D</td>\n",
       "      <td>257232</td>\n",
       "    </tr>\n",
       "    <tr>\n",
       "      <th>128</th>\n",
       "      <td>1998</td>\n",
       "      <td>F</td>\n",
       "      <td>167303</td>\n",
       "    </tr>\n",
       "    <tr>\n",
       "      <th>129</th>\n",
       "      <td>1998</td>\n",
       "      <td>O</td>\n",
       "      <td>4</td>\n",
       "    </tr>\n",
       "  </tbody>\n",
       "</table>\n",
       "<p>130 rows × 3 columns</p>\n",
       "</div>"
      ],
      "text/plain": [
       "     year pt   count\n",
       "0    2018  S  268876\n",
       "1    2018  T  275576\n",
       "2    2018  D  234432\n",
       "3    2018  F  184979\n",
       "4    2018  O   67280\n",
       "..    ... ..     ...\n",
       "125  1998  S  302522\n",
       "126  1998  T  322838\n",
       "127  1998  D  257232\n",
       "128  1998  F  167303\n",
       "129  1998  O       4\n",
       "\n",
       "[130 rows x 3 columns]"
      ]
     },
     "execution_count": 9,
     "metadata": {},
     "output_type": "execute_result"
    }
   ],
   "source": [
    "res.to_pandas_df()"
   ]
  },
  {
   "cell_type": "code",
   "execution_count": 10,
   "metadata": {},
   "outputs": [
    {
     "data": {
      "text/plain": [
       "0    18500\n",
       "1    73450\n",
       "2    59000\n",
       "3    31000\n",
       "4    95000\n",
       "dtype: int64"
      ]
     },
     "execution_count": 10,
     "metadata": {},
     "output_type": "execute_result"
    }
   ],
   "source": [
    "price_series = vdf.price.to_pandas_series()\n",
    "price_series.head()"
   ]
  },
  {
   "cell_type": "code",
   "execution_count": 11,
   "metadata": {},
   "outputs": [
    {
     "name": "stdout",
     "output_type": "stream",
     "text": [
      "CPU times: user 73.7 ms, sys: 0 ns, total: 73.7 ms\n",
      "Wall time: 72 ms\n"
     ]
    },
    {
     "data": {
      "text/plain": [
       "199101.1903886728"
      ]
     },
     "execution_count": 11,
     "metadata": {},
     "output_type": "execute_result"
    }
   ],
   "source": [
    "%%time\n",
    "price_series.mean()\n",
    "# in memory this is fast but Vaex, via disk, is still pretty fast!"
   ]
  },
  {
   "cell_type": "markdown",
   "metadata": {},
   "source": [
    "# Compare slow Pandas `str` and faster Vaex `str`"
   ]
  },
  {
   "cell_type": "code",
   "execution_count": 12,
   "metadata": {},
   "outputs": [],
   "source": [
    "# make a Pandas Series of 25M rows from Vaex DataFrame\n",
    "street_series = vdf.paon.to_pandas_series()"
   ]
  },
  {
   "cell_type": "code",
   "execution_count": 13,
   "metadata": {},
   "outputs": [
    {
     "name": "stdout",
     "output_type": "stream",
     "text": [
      "CPU times: user 18.3 s, sys: 1.95 s, total: 20.3 s\n",
      "Wall time: 20.3 s\n"
     ]
    }
   ],
   "source": [
    "%%time\n",
    "smask = street_series.str.lower().str.contains('cottage')"
   ]
  },
  {
   "cell_type": "code",
   "execution_count": 14,
   "metadata": {},
   "outputs": [
    {
     "data": {
      "text/plain": [
       "0    False\n",
       "1    False\n",
       "2    False\n",
       "3     True\n",
       "4     True\n",
       "dtype: object"
      ]
     },
     "execution_count": 14,
     "metadata": {},
     "output_type": "execute_result"
    }
   ],
   "source": [
    "smask[:5]"
   ]
  },
  {
   "cell_type": "code",
   "execution_count": 15,
   "metadata": {},
   "outputs": [
    {
     "data": {
      "text/plain": [
       "321828"
      ]
     },
     "execution_count": 15,
     "metadata": {},
     "output_type": "execute_result"
    }
   ],
   "source": [
    "smask_sum = smask.sum()\n",
    "smask_sum"
   ]
  },
  {
   "cell_type": "code",
   "execution_count": 16,
   "metadata": {},
   "outputs": [
    {
     "data": {
      "text/plain": [
       "Expression = str_contains(str_lower(paon), 'cottage')\n",
       "Length: 25,467,513 dtype: bool (expression)\n",
       "-------------------------------------------\n",
       "       0  False\n",
       "       1  False\n",
       "       2  False\n",
       "       3   True\n",
       "       4   True\n",
       "      ...      \n",
       "25467508  False\n",
       "25467509  False\n",
       "25467510   True\n",
       "25467511  False\n",
       "25467512  False"
      ]
     },
     "execution_count": 16,
     "metadata": {},
     "output_type": "execute_result"
    }
   ],
   "source": [
    "# eyeball the output from Vaex, note speed and the _partial_ evaluation that'll occur\n",
    "vdf.paon.str.lower().str.contains('cottage')"
   ]
  },
  {
   "cell_type": "code",
   "execution_count": 17,
   "metadata": {},
   "outputs": [
    {
     "name": "stdout",
     "output_type": "stream",
     "text": [
      "CPU times: user 5.53 s, sys: 42.4 ms, total: 5.58 s\n",
      "Wall time: 767 ms\n"
     ]
    }
   ],
   "source": [
    "%%time\n",
    "assert vdf.paon.str.lower().str.contains('cottage').sum() == smask_sum\n",
    "# we force a full calculation here and check against the Pandas answer"
   ]
  },
  {
   "cell_type": "markdown",
   "metadata": {},
   "source": [
    "# Experiment on `apply`\n",
    "\n",
    "`apply` runs slowly, it seems to be single core, but it does run."
   ]
  },
  {
   "cell_type": "code",
   "execution_count": 19,
   "metadata": {},
   "outputs": [
    {
     "name": "stdout",
     "output_type": "stream",
     "text": [
      "CPU times: user 1min 10s, sys: 1.58 s, total: 1min 11s\n",
      "Wall time: 1min 8s\n"
     ]
    },
    {
     "data": {
      "text/plain": [
       "CR0        61610\n",
       "BN3        53345\n",
       "BN2        47993\n",
       "E14        46889\n",
       "BN1        46340\n",
       "           ...  \n",
       "KT40           1\n",
       "GR52           1\n",
       "UNKNOWN        1\n",
       "CH99           1\n",
       "YO91           1\n",
       "Length: 2391, dtype: int64"
      ]
     },
     "execution_count": 19,
     "metadata": {},
     "output_type": "execute_result"
    }
   ],
   "source": [
    "%%time\n",
    "vdf.postcode.apply(lambda s: s.split(' ')[0] if s is not None else '').value_counts()"
   ]
  },
  {
   "cell_type": "markdown",
   "metadata": {},
   "source": [
    "# Appendix"
   ]
  },
  {
   "cell_type": "code",
   "execution_count": 18,
   "metadata": {},
   "outputs": [
    {
     "name": "stdout",
     "output_type": "stream",
     "text": [
      "Keys in table.columns:  <KeysViewHDF5 ['county', 'date', 'district', 'duration', 'locality', 'new', 'paon', 'postcode', 'ppd_cat', 'price', 'pt', 'saon', 'status', 'street', 'tin', 'town']>\n",
      "Length of table: 1\n",
      "\n",
      "Columns and details, note shape for S1 strings seems to be length of all binary data, not row count\n",
      "/table/columns/county/data |S1 (303948506,)\n",
      "/table/columns/date/data int64 (25467513,)\n",
      "/table/columns/district/data |S1 (274171618,)\n",
      "/table/columns/duration/data |S1 (25467513,)\n",
      "/table/columns/locality/data |S1 (155745853,)\n",
      "/table/columns/new/data |S1 (25467513,)\n",
      "/table/columns/paon/data |S1 (92502597,)\n",
      "/table/columns/postcode/data |S1 (189024115,)\n",
      "/table/columns/ppd_cat/data |S1 (25467513,)\n",
      "/table/columns/price/data int64 (25467513,)\n",
      "/table/columns/pt/data |S1 (25467513,)\n",
      "/table/columns/saon/data |S1 (19254020,)\n",
      "/table/columns/status/data |S1 (25467513,)\n",
      "/table/columns/street/data |S1 (329015033,)\n",
      "/table/columns/tin/data |S1 (967765494,)\n",
      "/table/columns/town/data |S1 (221480202,)\n",
      "\n",
      "First few items from price column:\n",
      "Prices:  [ 18500  73450  59000  31000  95000  45450  96000  30000 425000  89995]\n"
     ]
    }
   ],
   "source": [
    "import h5py\n",
    "\n",
    "f = h5py.File(VAEX, 'r')\n",
    "tbl = f['table']\n",
    "cols = tbl['columns']\n",
    "# driver is sec2 - Unbuffered, optimized I/O using standard POSIX functions.\n",
    "print('Keys in table.columns: ', cols.keys())\n",
    "print(f'Length of table: {len(tbl)}')\n",
    "\n",
    "print()\n",
    "print('Columns and details, note shape for S1 strings seems to be length of all binary data, not row count')\n",
    "for col_name in cols.keys():\n",
    "    col = cols[col_name]['data']\n",
    "    print(col.name, col.dtype, col.shape)\n",
    "\n",
    "print()\n",
    "print('First few items from price column:')\n",
    "price = cols['price']['data']\n",
    "print('Prices: ', price[:10])"
   ]
  },
  {
   "cell_type": "code",
   "execution_count": null,
   "metadata": {},
   "outputs": [],
   "source": []
  }
 ],
 "metadata": {
  "kernelspec": {
   "display_name": "Python 3",
   "language": "python",
   "name": "python3"
  },
  "language_info": {
   "codemirror_mode": {
    "name": "ipython",
    "version": 3
   },
   "file_extension": ".py",
   "mimetype": "text/x-python",
   "name": "python",
   "nbconvert_exporter": "python",
   "pygments_lexer": "ipython3",
   "version": "3.8.5"
  }
 },
 "nbformat": 4,
 "nbformat_minor": 4
}
