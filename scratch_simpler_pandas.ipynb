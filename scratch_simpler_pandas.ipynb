{
 "cells": [
  {
   "cell_type": "code",
   "execution_count": 1,
   "metadata": {},
   "outputs": [],
   "source": [
    "import time\n",
    "import dask.dataframe as dd\n",
    "from dask.distributed import Client\n",
    "from config import *\n",
    "import simpler_pandas\n",
    "import numpy as np"
   ]
  },
  {
   "cell_type": "code",
   "execution_count": null,
   "metadata": {},
   "outputs": [],
   "source": [
    "import matplotlib.pyplot as plt\n",
    "import simpler_mpl\n",
    "\n",
    "\n",
    "%load_ext autoreload\n",
    "%autoreload 2"
   ]
  },
  {
   "cell_type": "code",
   "execution_count": 3,
   "metadata": {},
   "outputs": [
    {
     "data": {
      "text/plain": [
       "tin                 object\n",
       "price                int64\n",
       "date        datetime64[ns]\n",
       "postcode            object\n",
       "pt                  object\n",
       "new                 object\n",
       "duration            object\n",
       "paon                object\n",
       "saon                object\n",
       "street              object\n",
       "locality            object\n",
       "town                object\n",
       "district            object\n",
       "county              object\n",
       "ppd_cat             object\n",
       "status              object\n",
       "dtype: object"
      ]
     },
     "execution_count": 3,
     "metadata": {},
     "output_type": "execute_result"
    }
   ],
   "source": [
    "if 'client' not in dir():\n",
    "    client = Client(n_workers=10, threads_per_worker=1, processes=True, memory_limit='3GB')\n",
    "    print(client)\n",
    "\n",
    "DATA = DATA_PARQUET_10_SNAPPY \n",
    "ddf = dd.read_parquet(DATA)\n",
    "ddf.dtypes"
   ]
  },
  {
   "cell_type": "code",
   "execution_count": 74,
   "metadata": {},
   "outputs": [],
   "source": []
  },
  {
   "cell_type": "code",
   "execution_count": 13,
   "metadata": {},
   "outputs": [
    {
     "data": {
      "text/plain": [
       "count    2.546751e+07\n",
       "mean     1.991012e+05\n",
       "std      7.602183e+05\n",
       "min      1.000000e+00\n",
       "1%       1.900000e+04\n",
       "5%       3.595000e+04\n",
       "50%      1.400000e+05\n",
       "95%      4.900000e+05\n",
       "99%      9.750000e+05\n",
       "max      5.943000e+08\n",
       "Name: price, dtype: float64"
      ]
     },
     "execution_count": 13,
     "metadata": {},
     "output_type": "execute_result"
    }
   ],
   "source": [
    "all_prices = ddf.price.compute()\n",
    "all_prices.describe(percentiles=[0.01, 0.05, 0.5, 0.95, 0.99])"
   ]
  },
  {
   "cell_type": "code",
   "execution_count": 41,
   "metadata": {},
   "outputs": [],
   "source": [
    "mask = all_prices < 1_000_000\n",
    "prices = all_prices[mask]"
   ]
  },
  {
   "cell_type": "code",
   "execution_count": 68,
   "metadata": {},
   "outputs": [
    {
     "data": {
      "image/png": "[encoded data removed]",
      "text/plain": [
       "<Figure size 432x288 with 1 Axes>"
      ]
     },
     "metadata": {
      "needs_background": "light"
     },
     "output_type": "display_data"
    }
   ],
   "source": [
    "fig, ax = plt.subplots(constrained_layout=True)\n",
    "prices.hist(ax=ax, bins=100)\n",
    "simpler_mpl.set_common_mpl_styles(ax, ylabel='Count', xlabel='Price', \n",
    "                                  title=\"Frequency of prices\", legend=False, grid_axis='x')\n",
    "#simpler_mpl.set_commas(ax)\n",
    "simpler_mpl.set_human_format(ax, on_y_axis=True, precision=1, trim_0_decimals=True)\n",
    "simpler_mpl.set_human_format(ax, on_x_axis=True, precision=0, prefix=\"£\", )"
   ]
  },
  {
   "cell_type": "code",
   "execution_count": 64,
   "metadata": {},
   "outputs": [],
   "source": [
    "price_bins = np.arange(0, 1_000_000, 10_000)\n",
    "binned_prices = simpler_pandas.bin_and_label(prices, price_bins)"
   ]
  },
  {
   "cell_type": "code",
   "execution_count": null,
   "metadata": {},
   "outputs": [],
   "source": []
  },
  {
   "cell_type": "code",
   "execution_count": 73,
   "metadata": {},
   "outputs": [
    {
     "data": {
      "image/png": "[encoded data removed]",
      "text/plain": [
       "<Figure size 432x288 with 1 Axes>"
      ]
     },
     "metadata": {
      "needs_background": "light"
     },
     "output_type": "display_data"
    }
   ],
   "source": [
    "fig, ax = plt.subplots(constrained_layout=True)\n",
    "binned_prices.plot(kind='bar', ax=ax)\n",
    "\n",
    "simpler_mpl.set_common_mpl_styles(ax, ylabel='Count', xlabel='Price', \n",
    "                                  title=\"Frequency of prices\", legend=False, grid_axis='y')\n",
    "#simpler_mpl.set_commas(ax)\n",
    "simpler_mpl.set_human_format(ax, on_y_axis=True, precision=1, trim_0_decimals=True)\n",
    "#simpler_mpl.set_human_format(ax, on_x_axis=True, precision=0, prefix=\"£\", )"
   ]
  },
  {
   "cell_type": "code",
   "execution_count": null,
   "metadata": {},
   "outputs": [],
   "source": [
    "df_to_plot = df_seconds.reset_index().assign(nrows=[f'{v:,}' for v in df_seconds.index])\n",
    "\n",
    "fig, ax = plt.subplots(constrained_layout=True)\n",
    "binned_prices.plot(kind='bar', ax=ax)\n",
    "\n",
    "simpler_mpl.set_common_mpl_styles(ax, ylabel='Count', xlabel='Price', \n",
    "                                  title=\"Frequency of prices\", legend=False, grid_axis='y')\n",
    "#simpler_mpl.set_commas(ax)\n",
    "simpler_mpl.set_human_format(ax, on_y_axis=True, precision=1, trim_0_decimals=True)\n",
    "#simpler_mpl.set_human_format(ax, on_x_axis=True, precision=0, prefix=\"£\", )"
   ]
  },
  {
   "cell_type": "markdown",
   "metadata": {},
   "source": [
    "# look at bigger df"
   ]
  },
  {
   "cell_type": "code",
   "execution_count": null,
   "metadata": {},
   "outputs": [],
   "source": [
    "df = ddf[['date', 'price', 'pt']].compute()"
   ]
  },
  {
   "cell_type": "code",
   "execution_count": null,
   "metadata": {},
   "outputs": [],
   "source": [
    "dfs = df.sample(1000)"
   ]
  },
  {
   "cell_type": "code",
   "execution_count": 81,
   "metadata": {},
   "outputs": [
    {
     "data": {
      "text/html": [
       "<div>\n",
       "<style scoped>\n",
       "    .dataframe tbody tr th:only-of-type {\n",
       "        vertical-align: middle;\n",
       "    }\n",
       "\n",
       "    .dataframe tbody tr th {\n",
       "        vertical-align: top;\n",
       "    }\n",
       "\n",
       "    .dataframe thead tr th {\n",
       "        text-align: left;\n",
       "    }\n",
       "\n",
       "    .dataframe thead tr:last-of-type th {\n",
       "        text-align: right;\n",
       "    }\n",
       "</style>\n",
       "<table border=\"1\" class=\"dataframe\">\n",
       "  <thead>\n",
       "    <tr>\n",
       "      <th></th>\n",
       "      <th></th>\n",
       "      <th colspan=\"2\" halign=\"left\">price</th>\n",
       "    </tr>\n",
       "    <tr>\n",
       "      <th></th>\n",
       "      <th></th>\n",
       "      <th>mean</th>\n",
       "      <th>median</th>\n",
       "    </tr>\n",
       "    <tr>\n",
       "      <th>date</th>\n",
       "      <th>pt</th>\n",
       "      <th></th>\n",
       "      <th></th>\n",
       "    </tr>\n",
       "  </thead>\n",
       "  <tbody>\n",
       "    <tr>\n",
       "      <th rowspan=\"4\" valign=\"top\">1995</th>\n",
       "      <th>D</th>\n",
       "      <td>91496.666667</td>\n",
       "      <td>77750.0</td>\n",
       "    </tr>\n",
       "    <tr>\n",
       "      <th>F</th>\n",
       "      <td>37750.000000</td>\n",
       "      <td>37750.0</td>\n",
       "    </tr>\n",
       "    <tr>\n",
       "      <th>S</th>\n",
       "      <td>56041.250000</td>\n",
       "      <td>52500.0</td>\n",
       "    </tr>\n",
       "    <tr>\n",
       "      <th>T</th>\n",
       "      <td>44183.333333</td>\n",
       "      <td>44250.0</td>\n",
       "    </tr>\n",
       "    <tr>\n",
       "      <th>1996</th>\n",
       "      <th>D</th>\n",
       "      <td>104213.857143</td>\n",
       "      <td>93500.0</td>\n",
       "    </tr>\n",
       "    <tr>\n",
       "      <th>...</th>\n",
       "      <th>...</th>\n",
       "      <td>...</td>\n",
       "      <td>...</td>\n",
       "    </tr>\n",
       "    <tr>\n",
       "      <th>2019</th>\n",
       "      <th>T</th>\n",
       "      <td>204610.555556</td>\n",
       "      <td>195995.0</td>\n",
       "    </tr>\n",
       "    <tr>\n",
       "      <th rowspan=\"4\" valign=\"top\">2020</th>\n",
       "      <th>D</th>\n",
       "      <td>610000.000000</td>\n",
       "      <td>315000.0</td>\n",
       "    </tr>\n",
       "    <tr>\n",
       "      <th>F</th>\n",
       "      <td>302249.166667</td>\n",
       "      <td>357500.0</td>\n",
       "    </tr>\n",
       "    <tr>\n",
       "      <th>O</th>\n",
       "      <td>320000.000000</td>\n",
       "      <td>320000.0</td>\n",
       "    </tr>\n",
       "    <tr>\n",
       "      <th>S</th>\n",
       "      <td>240500.000000</td>\n",
       "      <td>187000.0</td>\n",
       "    </tr>\n",
       "  </tbody>\n",
       "</table>\n",
       "<p>107 rows × 2 columns</p>\n",
       "</div>"
      ],
      "text/plain": [
       "                 price          \n",
       "                  mean    median\n",
       "date pt                         \n",
       "1995 D    91496.666667   77750.0\n",
       "     F    37750.000000   37750.0\n",
       "     S    56041.250000   52500.0\n",
       "     T    44183.333333   44250.0\n",
       "1996 D   104213.857143   93500.0\n",
       "...                ...       ...\n",
       "2019 T   204610.555556  195995.0\n",
       "2020 D   610000.000000  315000.0\n",
       "     F   302249.166667  357500.0\n",
       "     O   320000.000000  320000.0\n",
       "     S   240500.000000  187000.0\n",
       "\n",
       "[107 rows x 2 columns]"
      ]
     },
     "execution_count": 81,
     "metadata": {},
     "output_type": "execute_result"
    }
   ],
   "source": [
    "gpby = dfs.groupby([dfs.date.dt.year, 'pt']).agg({'price': ['mean', 'median']})\n",
    "gpby"
   ]
  },
  {
   "cell_type": "code",
   "execution_count": 112,
   "metadata": {},
   "outputs": [
    {
     "data": {
      "text/html": [
       "<div>\n",
       "<style scoped>\n",
       "    .dataframe tbody tr th:only-of-type {\n",
       "        vertical-align: middle;\n",
       "    }\n",
       "\n",
       "    .dataframe tbody tr th {\n",
       "        vertical-align: top;\n",
       "    }\n",
       "\n",
       "    .dataframe thead th {\n",
       "        text-align: right;\n",
       "    }\n",
       "</style>\n",
       "<table border=\"1\" class=\"dataframe\">\n",
       "  <thead>\n",
       "    <tr style=\"text-align: right;\">\n",
       "      <th></th>\n",
       "      <th>price_mean</th>\n",
       "      <th>price_median</th>\n",
       "    </tr>\n",
       "  </thead>\n",
       "  <tbody>\n",
       "    <tr>\n",
       "      <th>1995_D</th>\n",
       "      <td>91496.666667</td>\n",
       "      <td>77750.0</td>\n",
       "    </tr>\n",
       "    <tr>\n",
       "      <th>1995_F</th>\n",
       "      <td>37750.000000</td>\n",
       "      <td>37750.0</td>\n",
       "    </tr>\n",
       "    <tr>\n",
       "      <th>1995_S</th>\n",
       "      <td>56041.250000</td>\n",
       "      <td>52500.0</td>\n",
       "    </tr>\n",
       "    <tr>\n",
       "      <th>1995_T</th>\n",
       "      <td>44183.333333</td>\n",
       "      <td>44250.0</td>\n",
       "    </tr>\n",
       "    <tr>\n",
       "      <th>1996_D</th>\n",
       "      <td>104213.857143</td>\n",
       "      <td>93500.0</td>\n",
       "    </tr>\n",
       "    <tr>\n",
       "      <th>...</th>\n",
       "      <td>...</td>\n",
       "      <td>...</td>\n",
       "    </tr>\n",
       "    <tr>\n",
       "      <th>2019_T</th>\n",
       "      <td>204610.555556</td>\n",
       "      <td>195995.0</td>\n",
       "    </tr>\n",
       "    <tr>\n",
       "      <th>2020_D</th>\n",
       "      <td>610000.000000</td>\n",
       "      <td>315000.0</td>\n",
       "    </tr>\n",
       "    <tr>\n",
       "      <th>2020_F</th>\n",
       "      <td>302249.166667</td>\n",
       "      <td>357500.0</td>\n",
       "    </tr>\n",
       "    <tr>\n",
       "      <th>2020_O</th>\n",
       "      <td>320000.000000</td>\n",
       "      <td>320000.0</td>\n",
       "    </tr>\n",
       "    <tr>\n",
       "      <th>2020_S</th>\n",
       "      <td>240500.000000</td>\n",
       "      <td>187000.0</td>\n",
       "    </tr>\n",
       "  </tbody>\n",
       "</table>\n",
       "<p>107 rows × 2 columns</p>\n",
       "</div>"
      ],
      "text/plain": [
       "           price_mean  price_median\n",
       "1995_D   91496.666667       77750.0\n",
       "1995_F   37750.000000       37750.0\n",
       "1995_S   56041.250000       52500.0\n",
       "1995_T   44183.333333       44250.0\n",
       "1996_D  104213.857143       93500.0\n",
       "...               ...           ...\n",
       "2019_T  204610.555556      195995.0\n",
       "2020_D  610000.000000      315000.0\n",
       "2020_F  302249.166667      357500.0\n",
       "2020_O  320000.000000      320000.0\n",
       "2020_S  240500.000000      187000.0\n",
       "\n",
       "[107 rows x 2 columns]"
      ]
     },
     "execution_count": 112,
     "metadata": {},
     "output_type": "execute_result"
    }
   ],
   "source": [
    "simpler_pandas.flatten_multiindex(gpby)"
   ]
  },
  {
   "cell_type": "code",
   "execution_count": null,
   "metadata": {},
   "outputs": [],
   "source": []
  }
 ],
 "metadata": {
  "kernelspec": {
   "display_name": "Python 3",
   "language": "python",
   "name": "python3"
  },
  "language_info": {
   "codemirror_mode": {
    "name": "ipython",
    "version": 3
   },
   "file_extension": ".py",
   "mimetype": "text/x-python",
   "name": "python",
   "nbconvert_exporter": "python",
   "pygments_lexer": "ipython3",
   "version": "3.8.6"
  }
 },
 "nbformat": 4,
 "nbformat_minor": 4
}
