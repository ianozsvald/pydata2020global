{
 "cells": [
  {
   "cell_type": "markdown",
   "metadata": {},
   "source": [
    "# Dask on land registry\n",
    "\n",
    "* load single csv, show doing a groupby (where is the data stored???)\n",
    "* load parquet 100, show doing groupby, should be quicker?\n",
    "* load parquet 100, only load selected columns, should be even quicker?"
   ]
  },
  {
   "cell_type": "code",
   "execution_count": 1,
   "metadata": {},
   "outputs": [],
   "source": [
    "import dask.dataframe as dd\n",
    "from distributed import Client\n",
    "import pandas as pd\n",
    "from IPython import display\n",
    "\n",
    "from config import *"
   ]
  },
  {
   "cell_type": "code",
   "execution_count": 2,
   "metadata": {},
   "outputs": [
    {
     "name": "stderr",
     "output_type": "stream",
     "text": [
      "/home/ian/miniconda3/envs/pydata2020global/lib/python3.8/site-packages/distributed/node.py:151: UserWarning: Port 8787 is already in use.\n",
      "Perhaps you already have a cluster running?\n",
      "Hosting the HTTP server on port 35767 instead\n",
      "  warnings.warn(\n"
     ]
    },
    {
     "name": "stdout",
     "output_type": "stream",
     "text": [
      "<Client: 'tcp://127.0.0.1:37827' processes=8 threads=8, memory=24.00 GB>\n"
     ]
    },
    {
     "data": {
      "text/html": [
       "<a href=http://127.0.0.1:35767/status>http://127.0.0.1:35767/status</a>"
      ],
      "text/plain": [
       "<IPython.core.display.HTML object>"
      ]
     },
     "execution_count": 2,
     "metadata": {},
     "output_type": "execute_result"
    }
   ],
   "source": [
    "if 'client' not in dir():\n",
    "    client = Client(n_workers=8, threads_per_worker=1, processes=True, memory_limit='3GB')\n",
    "    print(client)\n",
    "display.HTML(f\"<a href={client.dashboard_link}>{client.dashboard_link}</a>\")"
   ]
  },
  {
   "cell_type": "code",
   "execution_count": 3,
   "metadata": {},
   "outputs": [
    {
     "name": "stdout",
     "output_type": "stream",
     "text": [
      "total 1532644\r\n",
      "drwxr-xr-x 5 ian ian     4096 Oct 24 22:19 ..\r\n",
      "drwxr-xr-x 2 ian ian     4096 Oct 21 19:53 .\r\n",
      "-rw-r--r-- 1 ian ian   195747 Oct 21 19:53 _metadata\r\n",
      "-rw-r--r-- 1 ian ian     6827 Oct 21 19:53 _common_metadata\r\n",
      "-rw-r--r-- 1 ian ian 13590795 Oct 21 19:53 part.64.parquet\r\n",
      "-rw-r--r-- 1 ian ian 24396714 Oct 21 19:53 part.20.parquet\r\n",
      "-rw-r--r-- 1 ian ian 13607029 Oct 21 19:53 part.67.parquet\r\n",
      "-rw-r--r-- 1 ian ian 24775093 Oct 21 19:53 part.52.parquet\r\n",
      "-rw-r--r-- 1 ian ian 23437867 Oct 21 19:53 part.54.parquet\r\n",
      "-rw-r--r-- 1 ian ian 24368008 Oct 21 19:53 part.17.parquet\r\n",
      "-rw-r--r-- 1 ian ian 24943062 Oct 21 19:53 part.11.parquet\r\n",
      "-rw-r--r-- 1 ian ian 24307902 Oct 21 19:53 part.29.parquet\r\n",
      "-rw-r--r-- 1 ian ian 13713246 Oct 21 19:53 part.68.parquet\r\n",
      "-rw-r--r-- 1 ian ian 24961533 Oct 21 19:53 part.47.parquet\r\n",
      "-rw-r--r-- 1 ian ian 24417892 Oct 21 19:53 part.31.parquet\r\n",
      "-rw-r--r-- 1 ian ian 25023231 Oct 21 19:53 part.48.parquet\r\n",
      "-rw-r--r-- 1 ian ian 25042840 Oct 21 19:53 part.50.parquet\r\n",
      "-rw-r--r-- 1 ian ian 13667266 Oct 21 19:53 part.58.parquet\r\n",
      "-rw-r--r-- 1 ian ian 24897974 Oct 21 19:53 part.46.parquet\r\n",
      "-rw-r--r-- 1 ian ian 24589581 Oct 21 19:53 part.15.parquet\r\n",
      "-rw-r--r-- 1 ian ian 24608857 Oct 21 19:53 part.36.parquet\r\n",
      "-rw-r--r-- 1 ian ian 13496748 Oct 21 19:53 part.59.parquet\r\n",
      "-rw-r--r-- 1 ian ian 24318610 Oct 21 19:53 part.35.parquet\r\n",
      "-rw-r--r-- 1 ian ian 18747999 Oct 21 19:53 part.55.parquet\r\n",
      "-rw-r--r-- 1 ian ian 24658177 Oct 21 19:53 part.32.parquet\r\n",
      "-rw-r--r-- 1 ian ian 24600670 Oct 21 19:53 part.30.parquet\r\n",
      "-rw-r--r-- 1 ian ian 25038499 Oct 21 19:53 part.45.parquet\r\n",
      "-rw-r--r-- 1 ian ian 24050793 Oct 21 19:53 part.1.parquet\r\n",
      "-rw-r--r-- 1 ian ian 24698429 Oct 21 19:53 part.13.parquet\r\n",
      "-rw-r--r-- 1 ian ian 13701647 Oct 21 19:53 part.66.parquet\r\n",
      "-rw-r--r-- 1 ian ian 24608534 Oct 21 19:53 part.38.parquet\r\n",
      "-rw-r--r-- 1 ian ian 24326395 Oct 21 19:53 part.24.parquet\r\n",
      "-rw-r--r-- 1 ian ian 24612800 Oct 21 19:53 part.27.parquet\r\n",
      "-rw-r--r-- 1 ian ian 24585977 Oct 21 19:53 part.34.parquet\r\n",
      "-rw-r--r-- 1 ian ian 24671649 Oct 21 19:53 part.33.parquet\r\n",
      "-rw-r--r-- 1 ian ian 13665699 Oct 21 19:53 part.60.parquet\r\n",
      "-rw-r--r-- 1 ian ian 24623541 Oct 21 19:53 part.6.parquet\r\n",
      "-rw-r--r-- 1 ian ian 13784271 Oct 21 19:53 part.63.parquet\r\n",
      "-rw-r--r-- 1 ian ian 24469372 Oct 21 19:53 part.7.parquet\r\n",
      "-rw-r--r-- 1 ian ian 25060400 Oct 21 19:53 part.44.parquet\r\n",
      "-rw-r--r-- 1 ian ian 24673645 Oct 21 19:53 part.2.parquet\r\n",
      "-rw-r--r-- 1 ian ian 24550401 Oct 21 19:53 part.26.parquet\r\n",
      "-rw-r--r-- 1 ian ian 13802272 Oct 21 19:53 part.65.parquet\r\n",
      "-rw-r--r-- 1 ian ian 24586875 Oct 21 19:53 part.51.parquet\r\n",
      "-rw-r--r-- 1 ian ian 24844631 Oct 21 19:53 part.12.parquet\r\n",
      "-rw-r--r-- 1 ian ian 13681726 Oct 21 19:53 part.62.parquet\r\n",
      "-rw-r--r-- 1 ian ian 23815391 Oct 21 19:52 part.53.parquet\r\n",
      "-rw-r--r-- 1 ian ian 24901673 Oct 21 19:52 part.49.parquet\r\n",
      "-rw-r--r-- 1 ian ian 13601628 Oct 21 19:52 part.61.parquet\r\n",
      "-rw-r--r-- 1 ian ian 24656002 Oct 21 19:52 part.41.parquet\r\n",
      "-rw-r--r-- 1 ian ian 24197143 Oct 21 19:52 part.9.parquet\r\n",
      "-rw-r--r-- 1 ian ian 21034950 Oct 21 19:52 part.56.parquet\r\n",
      "-rw-r--r-- 1 ian ian 17707677 Oct 21 19:52 part.57.parquet\r\n",
      "-rw-r--r-- 1 ian ian 24768931 Oct 21 19:52 part.10.parquet\r\n",
      "-rw-r--r-- 1 ian ian 24536262 Oct 21 19:52 part.25.parquet\r\n",
      "-rw-r--r-- 1 ian ian 24609377 Oct 21 19:52 part.0.parquet\r\n",
      "-rw-r--r-- 1 ian ian 24979214 Oct 21 19:52 part.14.parquet\r\n",
      "-rw-r--r-- 1 ian ian 24496959 Oct 21 19:52 part.21.parquet\r\n",
      "-rw-r--r-- 1 ian ian 24543556 Oct 21 19:52 part.22.parquet\r\n",
      "-rw-r--r-- 1 ian ian 24065734 Oct 21 19:52 part.3.parquet\r\n",
      "-rw-r--r-- 1 ian ian 23928771 Oct 21 19:52 part.5.parquet\r\n",
      "-rw-r--r-- 1 ian ian 24574488 Oct 21 19:52 part.40.parquet\r\n",
      "-rw-r--r-- 1 ian ian 24407175 Oct 21 19:52 part.23.parquet\r\n",
      "-rw-r--r-- 1 ian ian 24387950 Oct 21 19:52 part.8.parquet\r\n",
      "-rw-r--r-- 1 ian ian 24551620 Oct 21 19:52 part.18.parquet\r\n",
      "-rw-r--r-- 1 ian ian 24639979 Oct 21 19:52 part.37.parquet\r\n",
      "-rw-r--r-- 1 ian ian 24320836 Oct 21 19:52 part.4.parquet\r\n",
      "-rw-r--r-- 1 ian ian 25001488 Oct 21 19:52 part.16.parquet\r\n",
      "-rw-r--r-- 1 ian ian 24820346 Oct 21 19:52 part.43.parquet\r\n",
      "-rw-r--r-- 1 ian ian 24285973 Oct 21 19:52 part.39.parquet\r\n",
      "-rw-r--r-- 1 ian ian 24502410 Oct 21 19:52 part.28.parquet\r\n",
      "-rw-r--r-- 1 ian ian 24480425 Oct 21 19:52 part.19.parquet\r\n",
      "-rw-r--r-- 1 ian ian 24550500 Oct 21 19:52 part.42.parquet\r\n",
      "-rw-r--r-- 1 ian ian   333327 Oct 21 19:52 part.70.parquet\r\n",
      "-rw-r--r-- 1 ian ian   344441 Oct 21 19:52 part.81.parquet\r\n",
      "-rw-r--r-- 1 ian ian   335729 Oct 21 19:52 part.83.parquet\r\n",
      "-rw-r--r-- 1 ian ian   339530 Oct 21 19:52 part.90.parquet\r\n",
      "-rw-r--r-- 1 ian ian   338349 Oct 21 19:52 part.73.parquet\r\n",
      "-rw-r--r-- 1 ian ian   335869 Oct 21 19:52 part.85.parquet\r\n",
      "-rw-r--r-- 1 ian ian   337614 Oct 21 19:52 part.71.parquet\r\n",
      "-rw-r--r-- 1 ian ian   339431 Oct 21 19:52 part.89.parquet\r\n",
      "-rw-r--r-- 1 ian ian   340079 Oct 21 19:52 part.94.parquet\r\n",
      "-rw-r--r-- 1 ian ian   337101 Oct 21 19:52 part.95.parquet\r\n",
      "-rw-r--r-- 1 ian ian   326980 Oct 21 19:52 part.74.parquet\r\n",
      "-rw-r--r-- 1 ian ian   324884 Oct 21 19:52 part.75.parquet\r\n",
      "-rw-r--r-- 1 ian ian   334352 Oct 21 19:52 part.87.parquet\r\n",
      "-rw-r--r-- 1 ian ian   332000 Oct 21 19:52 part.97.parquet\r\n",
      "-rw-r--r-- 1 ian ian   318685 Oct 21 19:52 part.99.parquet\r\n",
      "-rw-r--r-- 1 ian ian   340117 Oct 21 19:52 part.88.parquet\r\n",
      "-rw-r--r-- 1 ian ian   335697 Oct 21 19:52 part.96.parquet\r\n",
      "-rw-r--r-- 1 ian ian   340744 Oct 21 19:52 part.78.parquet\r\n",
      "-rw-r--r-- 1 ian ian   341512 Oct 21 19:52 part.79.parquet\r\n",
      "-rw-r--r-- 1 ian ian   333865 Oct 21 19:52 part.93.parquet\r\n",
      "-rw-r--r-- 1 ian ian   342325 Oct 21 19:52 part.80.parquet\r\n",
      "-rw-r--r-- 1 ian ian   337495 Oct 21 19:52 part.82.parquet\r\n",
      "-rw-r--r-- 1 ian ian   338911 Oct 21 19:52 part.92.parquet\r\n",
      "-rw-r--r-- 1 ian ian   344790 Oct 21 19:52 part.72.parquet\r\n",
      "-rw-r--r-- 1 ian ian   329940 Oct 21 19:52 part.86.parquet\r\n",
      "-rw-r--r-- 1 ian ian   334654 Oct 21 19:52 part.76.parquet\r\n",
      "-rw-r--r-- 1 ian ian   341028 Oct 21 19:52 part.91.parquet\r\n",
      "-rw-r--r-- 1 ian ian   329686 Oct 21 19:52 part.77.parquet\r\n",
      "-rw-r--r-- 1 ian ian   336809 Oct 21 19:52 part.98.parquet\r\n",
      "-rw-r--r-- 1 ian ian   333743 Oct 21 19:52 part.84.parquet\r\n",
      "-rw-r--r-- 1 ian ian   340666 Oct 21 19:52 part.69.parquet\r\n"
     ]
    }
   ],
   "source": [
    "!ls -lta $DATA_PARQUET_100_SNAPPY"
   ]
  },
  {
   "cell_type": "code",
   "execution_count": null,
   "metadata": {},
   "outputs": [],
   "source": []
  },
  {
   "cell_type": "code",
   "execution_count": 4,
   "metadata": {},
   "outputs": [
    {
     "data": {
      "text/html": [
       "<div>\n",
       "<style scoped>\n",
       "    .dataframe tbody tr th:only-of-type {\n",
       "        vertical-align: middle;\n",
       "    }\n",
       "\n",
       "    .dataframe tbody tr th {\n",
       "        vertical-align: top;\n",
       "    }\n",
       "\n",
       "    .dataframe thead th {\n",
       "        text-align: right;\n",
       "    }\n",
       "</style>\n",
       "<table border=\"1\" class=\"dataframe\">\n",
       "  <thead>\n",
       "    <tr style=\"text-align: right;\">\n",
       "      <th></th>\n",
       "      <th>date</th>\n",
       "      <th>pt</th>\n",
       "    </tr>\n",
       "  </thead>\n",
       "  <tbody>\n",
       "    <tr>\n",
       "      <th>0</th>\n",
       "      <td>1995-01-31</td>\n",
       "      <td>F</td>\n",
       "    </tr>\n",
       "    <tr>\n",
       "      <th>1</th>\n",
       "      <td>1995-10-09</td>\n",
       "      <td>D</td>\n",
       "    </tr>\n",
       "    <tr>\n",
       "      <th>2</th>\n",
       "      <td>1995-03-31</td>\n",
       "      <td>D</td>\n",
       "    </tr>\n",
       "    <tr>\n",
       "      <th>3</th>\n",
       "      <td>1995-12-04</td>\n",
       "      <td>D</td>\n",
       "    </tr>\n",
       "    <tr>\n",
       "      <th>4</th>\n",
       "      <td>1995-09-22</td>\n",
       "      <td>D</td>\n",
       "    </tr>\n",
       "  </tbody>\n",
       "</table>\n",
       "</div>"
      ],
      "text/plain": [
       "        date pt\n",
       "0 1995-01-31  F\n",
       "1 1995-10-09  D\n",
       "2 1995-03-31  D\n",
       "3 1995-12-04  D\n",
       "4 1995-09-22  D"
      ]
     },
     "execution_count": 4,
     "metadata": {},
     "output_type": "execute_result"
    }
   ],
   "source": [
    "columns = ['date', 'pt']\n",
    "ddf = dd.read_parquet(DATA_PARQUET_100_SNAPPY, \n",
    "                      columns=columns)\n",
    "ddf.head()"
   ]
  },
  {
   "cell_type": "code",
   "execution_count": 5,
   "metadata": {},
   "outputs": [
    {
     "name": "stdout",
     "output_type": "stream",
     "text": [
      "CPU times: user 3.53 s, sys: 259 ms, total: 3.79 s\n",
      "Wall time: 7.32 s\n"
     ]
    }
   ],
   "source": [
    "%%time\n",
    "qry = 'date >= \"2018-01-01\" and date < \"2019-12-29\"'\n",
    "ddf_s = ddf.query(qry).set_index('date') # previously unindexed\n",
    "weekly_completions = ddf_s['pt'].resample('W').count().compute()"
   ]
  },
  {
   "cell_type": "code",
   "execution_count": null,
   "metadata": {},
   "outputs": [],
   "source": [
    "ddf_s.head()"
   ]
  },
  {
   "cell_type": "code",
   "execution_count": null,
   "metadata": {},
   "outputs": [],
   "source": []
  },
  {
   "cell_type": "code",
   "execution_count": null,
   "metadata": {},
   "outputs": [],
   "source": []
  },
  {
   "cell_type": "code",
   "execution_count": null,
   "metadata": {},
   "outputs": [],
   "source": [
    "weekly_completions.index.name"
   ]
  },
  {
   "cell_type": "code",
   "execution_count": 7,
   "metadata": {},
   "outputs": [
    {
     "data": {
      "image/png": "[encoded data removed]",
      "text/plain": [
       "<Figure size 432x288 with 1 Axes>"
      ]
     },
     "metadata": {
      "needs_background": "light"
     },
     "output_type": "display_data"
    }
   ],
   "source": [
    "import matplotlib.pyplot as plt\n",
    "import matplotlib as mpl\n",
    "fig, ax = plt.subplots(constrained_layout=True)\n",
    "weekly_completions.plot(ax=ax)\n",
    "ax.spines['top'].set_visible(False)\n",
    "ax.spines['right'].set_visible(False)\n",
    "ax.grid(axis='x')\n",
    "ax.get_yaxis().set_major_formatter(mpl.ticker.FuncFormatter(lambda x, p: format(int(x), ',')))\n",
    "ax.set_ylabel('Weekly Completions')\n",
    "ax.set_title('Completions often occur before the month-end\\nThey rise in summer and drop at Christmas');\n",
    "ax.set_xlabel('');"
   ]
  },
  {
   "cell_type": "code",
   "execution_count": null,
   "metadata": {},
   "outputs": [],
   "source": []
  }
 ],
 "metadata": {
  "kernelspec": {
   "display_name": "Python 3",
   "language": "python",
   "name": "python3"
  },
  "language_info": {
   "codemirror_mode": {
    "name": "ipython",
    "version": 3
   },
   "file_extension": ".py",
   "mimetype": "text/x-python",
   "name": "python",
   "nbconvert_exporter": "python",
   "pygments_lexer": "ipython3",
   "version": "3.8.6"
  }
 },
 "nbformat": 4,
 "nbformat_minor": 4
}
